{
 "cells": [
  {
   "cell_type": "markdown",
   "metadata": {},
   "source": [
    "# Deep Learning HW01\n",
    "Gerald Baulig 0780827 2019/11/05\n",
    "GitHub: https://github.com/bugerry87/fcnn_scratch\n",
    "\n",
    "---\n",
    "\n",
    "In this assignment we are asked to implement a neural network from scratch,\n",
    "including Backpropagation and Storastic Gradient Decent algorithms.\n",
    "The assigment includes two tasks:\n",
    "\n",
    "1. Implement a regression network, and\n",
    "2. implement a classification network."
   ]
  },
  {
   "cell_type": "markdown",
   "metadata": {},
   "source": [
    "## 1. Implement a Regression Network\n",
    "\n",
    "Implement a regression network for the engery efficiency dataset.\n",
    "I guess this dataset descripes the termal exchange of a building to its environment.\n",
    "The dataset has 2 Values (t):\n",
    "\n",
    "- Heating load, and\n",
    "- Cooling load\n",
    "\n",
    "And 8 features:\n",
    "\n",
    "- Relative compactness,\n",
    "- Surface area,\n",
    "- Wall area,\n",
    "- Roof area,\n",
    "- Overall hight,\n",
    "- Orientation,\n",
    "- Glazing area, and\n",
    "- Glazing area distribution.\n",
    "\n",
    "We are required to define a feature-vector out of these features and predict the heating load of the buildings, by minimizing the \"sum-of-squares\" error function,\n",
    "\n",
    "$$\n",
    "\\begin{equation}\n",
    "E(w) = \\sum_{n=1}^{N}{(t_n - y(X_n;w))^2}\n",
    "\\tag{1}\n",
    "\\end{equation}\n",
    "$$\n",
    "\n",
    "...while the evaluation should be processed by the \"root-mean-square\" error (basically an Euclidean distance :-),\n",
    "\n",
    "$$\n",
    "\\begin{equation}\n",
    "E_{RMS}(w) = \\frac{\\sqrt{\\sum_{n=1}^{N}{(t_n - y(x_n;w))^2}}}{\\sqrt{N}}\n",
    "\\tag{2}\n",
    "\\end{equation}\n",
    "$$"
   ]
  },
  {
   "cell_type": "markdown",
   "metadata": {},
   "source": [
    "## 2. Implement a Classifier\n",
    "\n",
    "Implement a classification network for the Ionosphere dataset.\n",
    "\n"
   ]
  },
  {
   "cell_type": "markdown",
   "metadata": {},
   "source": [
    "# A Fully-Connected Neural Network from Scratch\n",
    "\n",
    "First, let's define what a Neural Network is.\n",
    "A Neural Network is a class that can train and validate the weight of a stack of layers, w.r.t several hyper-parameters.\n",
    "However, all what the Neural Network needs to know about his own network is, where to get its output from. Furthermore, the hyper-parameters are only required in the training process, but only few of them in the validation process,\n",
    "such that the class defination could look like that:"
   ]
  },
  {
   "cell_type": "code",
   "execution_count": 1,
   "metadata": {},
   "outputs": [],
   "source": [
    "class NeuralNetwork:\n",
    "    def __init__(self, train_set, val_set, cost_func, loss_func):\n",
    "        self.train_set = train_set\n",
    "        self.val_set = val_set\n",
    "        self.cost = cost_func\n",
    "        self.loss = loss_func\n",
    "        pass\n",
    "    \n",
    "    def train(self, output_layer, lr, lr_dec):\n",
    "        self.lr = lr\n",
    "        self.lr_dec = lr_dec\n",
    "        self.training = True\n",
    "        for Y in output_layer.poll_forward():\n",
    "            Z = np.squeeze(self.cost.f(self.T, Y))\n",
    "            dZ = self.cost.d(self.T, Y)\n",
    "            output_layer.push_backward(dZ, self.lr)\n",
    "            self.lr -= self.lr * self.lr_dec\n",
    "            yield Z \n",
    "        pass\n",
    "    \n",
    "    def val(self, output_layer):\n",
    "        self.training = False\n",
    "        for Y in output_layer.poll_forward():\n",
    "            Z = self.loss.f(self.T, Y)\n",
    "            yield Z\n",
    "        pass        \n",
    "    \n",
    "    def gen_input(self):\n",
    "        if self.training:\n",
    "            for self.X, self.T, self.epoch, self.step in self.train_set():\n",
    "                yield self.X\n",
    "        else:\n",
    "            for self.X, self.T, _, _ in self.val_set():\n",
    "                yield self.X\n",
    "        pass"
   ]
  },
  {
   "cell_type": "markdown",
   "metadata": {},
   "source": [
    "## Activation Functions\n"
   ]
  },
  {
   "cell_type": "markdown",
   "metadata": {},
   "source": [
    "### ReLU"
   ]
  },
  {
   "cell_type": "code",
   "execution_count": 2,
   "metadata": {},
   "outputs": [
    {
     "name": "stdout",
     "output_type": "stream",
     "text": [
      "[1. 0. 5. 0. 0.]\n",
      "[1. 0. 1. 0. 0.]\n"
     ]
    }
   ],
   "source": [
    "import numpy as np\n",
    "class ReLU:\n",
    "    f = lambda x: np.maximum(x,0).astype(float)\n",
    "    d = lambda x: (x > 0).astype(float)\n",
    "\n",
    "#test\n",
    "print(ReLU.f(np.array([1,-1,5,-5,0])))\n",
    "print(ReLU.d(np.array([1,-1,5,-5,0])))"
   ]
  },
  {
   "cell_type": "markdown",
   "metadata": {},
   "source": [
    "### Sigmoid"
   ]
  },
  {
   "cell_type": "code",
   "execution_count": 3,
   "metadata": {},
   "outputs": [
    {
     "name": "stdout",
     "output_type": "stream",
     "text": [
      "[0.73105858 0.26894142 0.99330715 0.00669285 0.5       ]\n",
      "[0.19661193 0.19661193 0.00664806 0.00664806 0.25      ]\n"
     ]
    }
   ],
   "source": [
    "import numpy as np\n",
    "class Sigmoid:\n",
    "    f = lambda x: 1 / (1 + np.exp(-x))\n",
    "    def d(x):\n",
    "        S = Sigmoid.f(x)\n",
    "        return S * (1 - S)\n",
    "    pass\n",
    "\n",
    "#test\n",
    "print(Sigmoid.f(np.array([1,-1,5,-5,0])))\n",
    "print(Sigmoid.d(np.array([1,-1,5,-5,0])))"
   ]
  },
  {
   "cell_type": "markdown",
   "metadata": {},
   "source": [
    "### Linear"
   ]
  },
  {
   "cell_type": "code",
   "execution_count": 4,
   "metadata": {},
   "outputs": [
    {
     "name": "stdout",
     "output_type": "stream",
     "text": [
      "[ 1 -1  5 -5  0]\n",
      "[1. 1. 1. 1. 1.]\n"
     ]
    }
   ],
   "source": [
    "import numpy as np\n",
    "class Linear:\n",
    "    f = lambda x: x\n",
    "    d = lambda x: np.ones(x.shape)\n",
    "\n",
    "#test\n",
    "print(Linear.f(np.array([1,-1,5,-5,0])))\n",
    "print(Linear.d(np.array([1,-1,5,-5,0])))"
   ]
  },
  {
   "cell_type": "markdown",
   "metadata": {},
   "source": [
    "## Let's Define a Fully-Connected Layer\n",
    "\n"
   ]
  },
  {
   "cell_type": "code",
   "execution_count": 5,
   "metadata": {},
   "outputs": [],
   "source": [
    "class FcLayer:\n",
    "    def __init__(self,\n",
    "                 params,\n",
    "                 act_func,\n",
    "                 input_func,\n",
    "                 backprop,\n",
    "                 clipping=False\n",
    "                ):\n",
    "        self.w = params[0]\n",
    "        self.b = params[1]\n",
    "        self.act = act_func\n",
    "        self.input = input_func\n",
    "        self.backprop = backprop\n",
    "        self.clipping = clipping\n",
    "        pass\n",
    "    \n",
    "    def poll_forward(self):\n",
    "        '''Polls the output from the underlying layer. (Feed Forward)'''\n",
    "        for self.x in self.input():\n",
    "            self.y = self.act.f(np.dot(self.x, self.w) + self.b)\n",
    "            yield self.y\n",
    "    \n",
    "    def push_backward(self, dZ, lr):\n",
    "        '''Pushes the loss to the underlying layer. (Back Propagation)'''\n",
    "        dZ = dZ * self.act.d(self.y)\n",
    "        dw = np.dot(self.x.T, dZ)\n",
    "        if self.backprop:\n",
    "            self.backprop(np.dot(dZ, self.w.T), lr)\n",
    "        self.w += dw * lr if not self.clipping else np.clip(dw * lr, -1, 1)\n",
    "        if not self.b is 0:\n",
    "            self.b += np.sum(dZ, axis=0) * lr\n",
    "        pass"
   ]
  },
  {
   "cell_type": "markdown",
   "metadata": {},
   "source": [
    "## Loss Functions\n"
   ]
  },
  {
   "cell_type": "code",
   "execution_count": 6,
   "metadata": {},
   "outputs": [
    {
     "name": "stdout",
     "output_type": "stream",
     "text": [
      "SOS.f 26\n",
      "SOS.d [ 0 -2  0 10  0]\n",
      "RMS.f 2.280350850198276\n",
      "RMS.d [ 0.  -0.2  0.   1.   0. ]\n"
     ]
    }
   ],
   "source": [
    "import numpy as np\n",
    "class SOS:\n",
    "    f = lambda t,y: np.sum(np.power(t - y, 2))\n",
    "    d = lambda t,y: (t - y) * 2\n",
    "    \n",
    "class RMS:\n",
    "    f = lambda t,y: np.power(SOS.f(t, y) / t.size, 0.5)\n",
    "    d = lambda t,y: (SOS.d(t, y) / t.size) * 0.5\n",
    "\n",
    "#test\n",
    "print(\"SOS.f\", SOS.f(np.array([1,-2,5,-5,0]), np.array([1,-1,5,-10,0])))\n",
    "print(\"SOS.d\", SOS.d(np.array([1,-2,5,-5,0]), np.array([1,-1,5,-10,0])))\n",
    "print(\"RMS.f\", RMS.f(np.array([1,-2,5,-5,0]), np.array([1,-1,5,-10,0])))\n",
    "print(\"RMS.d\", RMS.d(np.array([1,-2,5,-5,0]), np.array([1,-1,5,-10,0])))"
   ]
  },
  {
   "cell_type": "markdown",
   "metadata": {},
   "source": [
    "# Regression for Energy Efficiency"
   ]
  },
  {
   "cell_type": "markdown",
   "metadata": {},
   "source": [
    "## Load and prepare Energy Efficiency Data"
   ]
  },
  {
   "cell_type": "code",
   "execution_count": 7,
   "metadata": {},
   "outputs": [
    {
     "name": "stdout",
     "output_type": "stream",
     "text": [
      "[[  0.98 514.5  294.   110.25   0.     1.     0.     0.     0.     0.\n",
      "    0.     0.     0.     0.     0.    15.55  21.33]\n",
      " [  0.98 514.5  294.   110.25   0.     0.     1.     0.     0.     0.\n",
      "    0.     0.     0.     0.     0.    15.55  21.33]\n",
      " [  0.98 514.5  294.   110.25   0.     0.     0.     1.     0.     0.\n",
      "    0.     0.     0.     0.     0.    15.55  21.33]\n",
      " [  0.98 514.5  294.   110.25   0.     0.     0.     0.     1.     0.\n",
      "    0.     0.     0.     0.     0.    15.55  21.33]\n",
      " [  0.9  563.5  318.5  122.5    0.     1.     0.     0.     0.     0.\n",
      "    0.     0.     0.     0.     0.    20.84  28.28]]\n"
     ]
    }
   ],
   "source": [
    "import numpy as np\n",
    "\n",
    "def unpack_EnergyEfficiency_data():\n",
    "    raw = np.genfromtxt('EnergyEfficiency_data.csv', skip_header=1, delimiter=',')\n",
    "    N = raw.shape[0]\n",
    "    data = np.zeros((N,17))\n",
    "    data[:,:4] = raw[:,:4]     #comp, surf, wall, roof, \n",
    "    data[:,4] = raw[:,4]       #hight\n",
    "    data[:,5] = raw[:,5] == 2  #ori north\n",
    "    data[:,6] = raw[:,5] == 3  #ori east\n",
    "    data[:,7] = raw[:,5] == 4  #ori south\n",
    "    data[:,8] = raw[:,5] == 5  #ori west\n",
    "    data[:,9] = raw[:,6]       #area\n",
    "    data[:,10] = raw[:,7] == 1 #area uniform\n",
    "    data[:,11] = raw[:,7] == 2 #area north\n",
    "    data[:,12] = raw[:,7] == 3 #area east\n",
    "    data[:,13] = raw[:,7] == 4 #area south\n",
    "    data[:,14] = raw[:,7] == 5 #area west\n",
    "    data[:,15:] = raw[:,8:]    #heat, cold\n",
    "    return data, N\n",
    "\n",
    "#fix the random seed for the reproducibility.\n",
    "#(another hyper-param)\n",
    "np.random.seed(15)\n",
    "\n",
    "def gen_data(data, epochs, batch_size, with_trails=False):\n",
    "    step = 0\n",
    "    N = data.shape[0]\n",
    "    X = np.zeros((batch_size, 15))\n",
    "    T = np.zeros((batch_size, 1))\n",
    "    for e in range(epochs):\n",
    "        for n in range(N):\n",
    "            i = int(step % batch_size)\n",
    "            X[i] = data[n,:15]\n",
    "            T[i] = data[n,-2]\n",
    "            step += 1\n",
    "            is_trail = not with_trails and n+batch_size >= N\n",
    "            if not step % batch_size:\n",
    "                yield X, T, e+is_trail, step\n",
    "        if with_trails and step % batch_size:\n",
    "            yield X[:i], T[:i], e+1, step\n",
    "\n",
    "def split_data(data, N):\n",
    "    shuffle = np.arange(N)\n",
    "    np.random.shuffle(shuffle)\n",
    "    data = data[shuffle]\n",
    "    split = int(N*0.7)\n",
    "    train = data[:split]\n",
    "    val = data[split:]\n",
    "    return train, val, shuffle\n",
    "\n",
    "data, N = unpack_EnergyEfficiency_data()\n",
    "train, val, shuffle = split_data(data, N)\n",
    "\n",
    "#test\n",
    "print(data[:5])"
   ]
  },
  {
   "cell_type": "markdown",
   "metadata": {},
   "source": [
    "## Configure the Network\n",
    "\n",
    "Now let's configure our network.\n",
    "Thanks to Pythons prototyping feature, we simply add each layer to our NeuralNetwork instance.\n",
    "For a more photonic initalization of the parameters we define a function `init_params`.\n",
    "With this function we define how many inputs our layer expects and how many outputs this layer will produce.\n",
    "The number of inputs must be equivalent to the number of nodes the previous layer has,\n",
    "while output it the number of nodes the current layer has.\n",
    "\n",
    "Furthermore, there are a lot of hyper-parameters in the parameter initialization.\n",
    "Few of them are weight-scaling, the use of bias and the initalization itself.\n",
    "In default we choose an unscaled natural distributed random generator with bias."
   ]
  },
  {
   "cell_type": "code",
   "execution_count": 29,
   "metadata": {},
   "outputs": [],
   "source": [
    "import matplotlib.pyplot as plt\n",
    "import numpy as np\n",
    "\n",
    "def init_params(inp, outp, scale=1, bias=True, init_func=np.random.randn):\n",
    "    weights = init_func(inp, outp)\n",
    "    while not np.all(weights):\n",
    "        malicious = weights==0.0\n",
    "        weights[malicious] = init_func(malicious.shape)\n",
    "    weights *= scale\n",
    "    return weights, np.zeros(outp) if bias else 0\n",
    "\n",
    "def init_network(epochs, batch_size):\n",
    "    nn = NeuralNetwork(\n",
    "        lambda: gen_data(train, epochs, batch_size),\n",
    "        lambda: gen_data(val, 1, 1),\n",
    "        SOS,\n",
    "        SOS\n",
    "    )\n",
    "\n",
    "    nn.In = FcLayer(init_params(15, 20, scale=2),\n",
    "                  Sigmoid, #act func\n",
    "                  nn.gen_input,\n",
    "                  None,\n",
    "                  clipping=True\n",
    "                 )\n",
    "\n",
    "    nn.Fc1 = FcLayer(init_params(20, 10, scale=2),\n",
    "                  Sigmoid,\n",
    "                  nn.In.poll_forward,\n",
    "                  nn.In.push_backward,\n",
    "                  clipping=True\n",
    "                 )\n",
    "\n",
    "    nn.Fc2 = FcLayer(init_params(10, 10, scale=2),\n",
    "                  Sigmoid,\n",
    "                  nn.Fc1.poll_forward,\n",
    "                  nn.Fc1.push_backward,\n",
    "                  clipping=True\n",
    "                 )\n",
    "\n",
    "    nn.Out = FcLayer(init_params(10, 1, scale=1),\n",
    "                  Linear,\n",
    "                  nn.Fc2.poll_forward,\n",
    "                  nn.Fc2.push_backward,\n",
    "                  clipping=True\n",
    "                 )\n",
    "    \n",
    "    # let's map the model to a dictionery for easy access\n",
    "    Model = {\n",
    "        'In':(nn.In.w, nn.In.b),\n",
    "        'Fc1':(nn.Fc1.w, nn.Fc1.b),\n",
    "        'Fc2':(nn.Fc2.w, nn.Fc2.b),\n",
    "        'Out':(nn.Out.w, nn.Out.b)\n",
    "    }\n",
    "    return nn, Model\n",
    "\n",
    "#test\n",
    "nn, Model = init_network(1, 1)"
   ]
  },
  {
   "cell_type": "markdown",
   "metadata": {},
   "source": [
    "### Save and Load\n",
    "\n",
    "Copy, save and load are important functionalities during the training process.\n",
    "Each epoch we will test our model against a validation set.\n",
    "While our model approaches more and more the training set,\n",
    "the model will reach a point where it start to overfit\n",
    "and the loss of the validation will rise up again.\n",
    "Before this happen we want to caputre the best model,\n",
    "by storing the best result after each epoch.\n",
    "Fortunatelly, copying, storing and loading are easy to implement with Pickle."
   ]
  },
  {
   "cell_type": "code",
   "execution_count": 37,
   "metadata": {},
   "outputs": [],
   "source": [
    "import pickle\n",
    "\n",
    "def copy(nn, model):\n",
    "    '''Copies the params of a given NeuralNetwork into a dictionary.\n",
    "    The dictionary must have the attribute name of the layer as a key.\n",
    "    E.g.: nn.layer1 --> model['layer1']\n",
    "    \n",
    "    Agrs:\n",
    "        nn: The NeuralNetwork\n",
    "        model: A dict where the params get stored at\n",
    "    '''\n",
    "    for k,v in model.items():\n",
    "        layer = getattr(nn, k)\n",
    "        model[k] = (layer.w.copy(), layer.b.copy())\n",
    "    pass\n",
    "\n",
    "def save(model, name):\n",
    "    with open(name, 'wb') as file:\n",
    "        pickle.dump(Model, file)\n",
    "    pass\n",
    "\n",
    "def load(nn, name):\n",
    "    with open(name, 'rb') as file:\n",
    "        obj = pickle.load(file)\n",
    "    for k,v in obj.items():\n",
    "        if hasattr(nn, k):\n",
    "            layer = getattr(nn, k)\n",
    "            layer.w = v[0]\n",
    "            layer.b = v[1]\n",
    "    pass\n",
    "\n",
    "#test\n",
    "copy(nn, Model)\n",
    "save(Model, \"test.pkl\")\n",
    "load(nn, \"test.pkl\")"
   ]
  },
  {
   "cell_type": "markdown",
   "metadata": {},
   "source": [
    "### Training"
   ]
  },
  {
   "cell_type": "code",
   "execution_count": 35,
   "metadata": {},
   "outputs": [
    {
     "data": {
      "image/png": "[encoded data removed]",
      "text/plain": [
       "<Figure size 432x288 with 1 Axes>"
      ]
     },
     "metadata": {
      "needs_background": "light"
     },
     "output_type": "display_data"
    },
    {
     "name": "stdout",
     "output_type": "stream",
     "text": [
      "Best Epoch: 622 with a Loss of: 19.716971093512306\n"
     ]
    }
   ],
   "source": [
    "#reset the model\n",
    "nn, Model, Layers = init_network(1000, 100)\n",
    "\n",
    "def run_training(nn, lr, lr_dec):\n",
    "    training = []\n",
    "    validation = []\n",
    "    epoch = 0\n",
    "    cost = 0\n",
    "    best_loss = None\n",
    "    best_epoch = 0\n",
    "    \n",
    "    for Z in nn.train(nn.Out, lr, lr_dec):\n",
    "        cost += Z / train.shape[0]\n",
    "        if nn.epoch > epoch:\n",
    "            loss = 0\n",
    "            epoch = nn.epoch\n",
    "            \n",
    "            for Zv in nn.val(nn.Out):\n",
    "                loss += Zv / val.shape[0]\n",
    "                \n",
    "            if best_loss is None or loss < best_loss:\n",
    "                best_loss = loss\n",
    "                best_epoch = epoch\n",
    "                copy(nn, Model)\n",
    "                \n",
    "            validation.append(loss)\n",
    "            training.append(cost)\n",
    "            cost = 0\n",
    "    return training, validation, best_epoch, best_loss\n",
    "\n",
    "training, validation, best_epoch, best_loss = run_training(nn, 1e-5, 1e-5)\n",
    "save(Model, \"checkpoint.pkl\")\n",
    "ax = plt.figure().subplots(1)\n",
    "ax.plot(range(nn.epoch), training, label='train')\n",
    "ax.plot(range(nn.epoch), validation, ':', label='val')\n",
    "ax.scatter(best_epoch, best_loss)\n",
    "ax.set_xlabel(\"Epoch\")\n",
    "ax.set_ylabel(\"Loss\")\n",
    "plt.title(\"Learning curves\")\n",
    "plt.legend()\n",
    "plt.show()\n",
    "print(\"Best Epoch:\", best_epoch, \"with a Loss of:\", best_loss)"
   ]
  },
  {
   "cell_type": "code",
   "execution_count": 36,
   "metadata": {},
   "outputs": [
    {
     "data": {
      "image/png": "[encoded data removed]",
      "text/plain": [
       "<Figure size 432x288 with 1 Axes>"
      ]
     },
     "metadata": {
      "needs_background": "light"
     },
     "output_type": "display_data"
    }
   ],
   "source": [
    "load(Layers, \"checkpoint.pkl\")\n",
    "\n",
    "nn.val_set = lambda: gen_data(data, 1, 1)\n",
    "target = []\n",
    "pred = []\n",
    "for Zv in nn.val(nn.Out):\n",
    "    target.append(nn.T[0][0])\n",
    "    pred.append(nn.Out.y[0][0])\n",
    "\n",
    "plt.plot(range(N), pred, label='prediction')\n",
    "plt.plot(range(N), target, label='target', linestyle=':')\n",
    "\n",
    "plt.legend()\n",
    "plt.show()"
   ]
  },
  {
   "cell_type": "code",
   "execution_count": 49,
   "metadata": {},
   "outputs": [
    {
     "data": {
      "image/png": "[encoded data removed]",
      "text/plain": [
       "<Figure size 432x288 with 1 Axes>"
      ]
     },
     "metadata": {
      "needs_background": "light"
     },
     "output_type": "display_data"
    }
   ],
   "source": [
    "invar = np.var(nn.In.w, axis=1)\n",
    "y_pos = np.arange(invar.size)\n",
    "labels = ('comp', 'surf', 'wall', 'roof', 'hight',\n",
    "          'ori_n', 'ori_e', 'ori_s', 'ori_w',\n",
    "          'gl_area',\n",
    "          'dist_u', 'dist_n', 'dist_e', 'dist_s', 'dist_w'\n",
    "         )\n",
    "plt.barh(y_pos, invar)\n",
    "plt.xscale('log')\n",
    "plt.yticks(y_pos, labels)\n",
    "plt.show()"
   ]
  },
  {
   "cell_type": "code",
   "execution_count": null,
   "metadata": {},
   "outputs": [],
   "source": []
  }
 ],
 "metadata": {
  "kernelspec": {
   "display_name": "Python 3",
   "language": "python",
   "name": "python3"
  },
  "language_info": {
   "codemirror_mode": {
    "name": "ipython",
    "version": 3
   },
   "file_extension": ".py",
   "mimetype": "text/x-python",
   "name": "python",
   "nbconvert_exporter": "python",
   "pygments_lexer": "ipython3",
   "version": "3.7.4"
  }
 },
 "nbformat": 4,
 "nbformat_minor": 2
}
