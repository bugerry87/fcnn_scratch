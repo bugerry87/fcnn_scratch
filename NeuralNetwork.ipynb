{
 "cells": [
  {
   "cell_type": "markdown",
   "metadata": {},
   "source": [
    "# Deep Learning HW01\n",
    "Gerald Baulig 0780827 2019/11/05\n",
    "GitHub: https://github.com/bugerry87/fcnn_scratch\n",
    "\n",
    "---\n",
    "\n",
    "In this assignment we are asked to implement a neural network from scratch,\n",
    "including Backpropagation and Storastic Gradient Decent algorithms.\n",
    "The assigment includes two tasks:\n",
    "\n",
    "1. Implement a regression network, and\n",
    "2. implement a classification network."
   ]
  },
  {
   "cell_type": "markdown",
   "metadata": {},
   "source": [
    "## 1. Implement a Regression Network\n",
    "\n",
    "Implement a regression network for the engery efficiency dataset.\n",
    "I guess this dataset descripes the termal exchange of a building to its environment.\n",
    "The dataset has 2 Values (t):\n",
    "\n",
    "- Heating load, and\n",
    "- Cooling load\n",
    "\n",
    "And 8 features:\n",
    "\n",
    "- Relative compactness,\n",
    "- Surface area,\n",
    "- Wall area,\n",
    "- Roof area,\n",
    "- Overall hight,\n",
    "- Orientation,\n",
    "- Glazing area, and\n",
    "- Glazing area distribution.\n",
    "\n",
    "We are required to define a feature-vector out of these features and predict the heating load of the buildings, by minimizing the \"sum-of-squares\" error function,\n",
    "\n",
    "$$\n",
    "\\begin{equation}\n",
    "E(w) = \\sum_{n=1}^{N}{(t_n - y(X_n;w))^2}\n",
    "\\tag{1}\n",
    "\\end{equation}\n",
    "$$\n",
    "\n",
    "...while the evaluation should be processed by the \"root-mean-square\" error (basically an Euclidean distance :-),\n",
    "\n",
    "$$\n",
    "\\begin{equation}\n",
    "E_{RMS}(w) = \\frac{\\sqrt{\\sum_{n=1}^{N}{(t_n - y(x_n;w))^2}}}{\\sqrt{N}}\n",
    "\\tag{2}\n",
    "\\end{equation}\n",
    "$$"
   ]
  },
  {
   "cell_type": "markdown",
   "metadata": {},
   "source": [
    "## 2. Implement a Classifier\n",
    "\n",
    "Implement a classification network for the Ionosphere dataset.\n",
    "\n"
   ]
  },
  {
   "cell_type": "markdown",
   "metadata": {},
   "source": [
    "# A Fully-Connected Neural Network from Scratch\n",
    "\n",
    "First, let's define what a Neural Network is.\n",
    "A Neural Network is a class that can train and validate the weight of a stack of layers, w.r.t several hyper-parameters.\n",
    "However, all what the Neural Network needs to know about his own network is, where to get its output from. Furthermore, the hyper-parameters are only required in the training process, but only few of them in the validation process,\n",
    "such that the class defination could look like that:"
   ]
  },
  {
   "cell_type": "code",
   "execution_count": 1,
   "metadata": {},
   "outputs": [],
   "source": [
    "class NeuralNetwork:\n",
    "    def __init__(self, train_set, val_set, cost_func, loss_func):\n",
    "        self.train_set = train_set\n",
    "        self.val_set = val_set\n",
    "        self.cost = cost_func\n",
    "        self.loss = loss_func\n",
    "        pass\n",
    "    \n",
    "    def train(self, output_layer, lr, lr_dec):\n",
    "        self.lr = lr\n",
    "        self.lr_dec = lr_dec\n",
    "        self.training = True\n",
    "        for Y in output_layer.poll_forward():\n",
    "            Z = np.squeeze(self.cost.f(self.T, Y))\n",
    "            dZ = self.cost.d(self.T, Y)\n",
    "            output_layer.push_backward(dZ, self.lr)\n",
    "            self.lr -= self.lr * self.lr_dec\n",
    "            yield Z \n",
    "        pass\n",
    "    \n",
    "    def val(self, output_layer):\n",
    "        self.training = False\n",
    "        for Y in output_layer.poll_forward():\n",
    "            Z = self.loss.f(self.T, Y)\n",
    "            yield Z\n",
    "        pass\n",
    "    \n",
    "    def gen_input(self):\n",
    "        if self.training:\n",
    "            for self.X, self.T, self.epoch, self.step in self.train_set():\n",
    "                yield self.X\n",
    "        else:\n",
    "            for self.X, self.T, _, _ in self.val_set():\n",
    "                yield self.X\n",
    "        pass"
   ]
  },
  {
   "cell_type": "markdown",
   "metadata": {},
   "source": [
    "## Activation Functions\n"
   ]
  },
  {
   "cell_type": "markdown",
   "metadata": {},
   "source": [
    "### ReLU"
   ]
  },
  {
   "cell_type": "code",
   "execution_count": 2,
   "metadata": {},
   "outputs": [
    {
     "name": "stdout",
     "output_type": "stream",
     "text": [
      "[1. 0. 5. 0. 0.]\n",
      "[1. 0. 1. 0. 0.]\n"
     ]
    }
   ],
   "source": [
    "import numpy as np\n",
    "class ReLU:\n",
    "    f = lambda x: np.maximum(x,0).astype(float)\n",
    "    d = lambda x: (x > 0).astype(float)\n",
    "\n",
    "#test\n",
    "print(ReLU.f(np.array([1,-1,5,-5,0])))\n",
    "print(ReLU.d(np.array([1,-1,5,-5,0])))"
   ]
  },
  {
   "cell_type": "markdown",
   "metadata": {},
   "source": [
    "### Sigmoid"
   ]
  },
  {
   "cell_type": "code",
   "execution_count": 3,
   "metadata": {},
   "outputs": [
    {
     "name": "stdout",
     "output_type": "stream",
     "text": [
      "[0.73105858 0.26894142 0.99330715 0.00669285 0.5       ]\n",
      "[0.19661193 0.19661193 0.00664806 0.00664806 0.25      ]\n"
     ]
    }
   ],
   "source": [
    "import numpy as np\n",
    "class Sigmoid:\n",
    "    f = lambda x: 1 / (1 + np.exp(-x))\n",
    "    def d(x):\n",
    "        S = Sigmoid.f(x)\n",
    "        return S * (1 - S)\n",
    "    pass\n",
    "\n",
    "#test\n",
    "print(Sigmoid.f(np.array([1,-1,5,-5,0])))\n",
    "print(Sigmoid.d(np.array([1,-1,5,-5,0])))"
   ]
  },
  {
   "cell_type": "markdown",
   "metadata": {},
   "source": [
    "### Linear"
   ]
  },
  {
   "cell_type": "code",
   "execution_count": 4,
   "metadata": {},
   "outputs": [],
   "source": [
    "class Linear:\n",
    "    f = lambda x: x\n",
    "    d = lambda x: 1.0"
   ]
  },
  {
   "cell_type": "markdown",
   "metadata": {},
   "source": [
    "## Let's Define a Fully-Connected Layer\n",
    "\n"
   ]
  },
  {
   "cell_type": "code",
   "execution_count": 122,
   "metadata": {},
   "outputs": [],
   "source": [
    "class FcLayer:\n",
    "    def __init__(self,\n",
    "                 params,\n",
    "                 act_func,\n",
    "                 input_generator,\n",
    "                 backprop,\n",
    "                ):\n",
    "        self.w = params[0]\n",
    "        self.b = params[1]\n",
    "        self.act = act_func\n",
    "        self.input = input_generator\n",
    "        self.backprop = backprop\n",
    "        pass\n",
    "    \n",
    "    def poll_forward(self):\n",
    "        '''Polls the output from the underlying layer. (Feed Forward)'''\n",
    "        for self.x in self.input():\n",
    "            self.y = self.act.f(np.dot(self.x, self.w) + self.b)\n",
    "            yield self.y\n",
    "    \n",
    "    def push_backward(self, dZ, lr):\n",
    "        '''Pushes the loss to the underlying layer. (Back Propagation)'''\n",
    "        dZ = dZ * self.act.d(self.y)\n",
    "        dw = np.dot(self.x.T, dZ)\n",
    "        if self.backprop:\n",
    "            self.backprop(np.dot(dZ, self.w.T), lr)\n",
    "        self.w += dw * lr\n",
    "        self.b += np.sum(dZ, axis=0) * lr\n",
    "        "
   ]
  },
  {
   "cell_type": "markdown",
   "metadata": {},
   "source": [
    "## Loss Functions\n"
   ]
  },
  {
   "cell_type": "code",
   "execution_count": 18,
   "metadata": {},
   "outputs": [
    {
     "name": "stdout",
     "output_type": "stream",
     "text": [
      "SOS.f 26\n",
      "SOS.d [ 0 -2  0 10  0]\n",
      "RMS.f 2.280350850198276\n",
      "RMS.d [ 0.  -0.2  0.   1.   0. ]\n"
     ]
    }
   ],
   "source": [
    "import numpy as np\n",
    "class SOS:\n",
    "    f = lambda t,y: np.sum(np.power(t - y, 2))\n",
    "    d = lambda t,y: (t - y) * 2\n",
    "    \n",
    "class RMS:\n",
    "    f = lambda t,y: np.power(SOS.f(t, y) / t.size, 0.5)\n",
    "    d = lambda t,y: (SOS.d(t, y) / t.size) * 0.5\n",
    "\n",
    "#test\n",
    "print(\"SOS.f\", SOS.f(np.array([1,-2,5,-5,0]), np.array([1,-1,5,-10,0])))\n",
    "print(\"SOS.d\", SOS.d(np.array([1,-2,5,-5,0]), np.array([1,-1,5,-10,0])))\n",
    "print(\"RMS.f\", RMS.f(np.array([1,-2,5,-5,0]), np.array([1,-1,5,-10,0])))\n",
    "print(\"RMS.d\", RMS.d(np.array([1,-2,5,-5,0]), np.array([1,-1,5,-10,0])))"
   ]
  },
  {
   "cell_type": "markdown",
   "metadata": {},
   "source": [
    "# Regression for Energy Efficiency"
   ]
  },
  {
   "cell_type": "markdown",
   "metadata": {},
   "source": [
    "## Load and prepare Energy Efficiency Data"
   ]
  },
  {
   "cell_type": "code",
   "execution_count": 113,
   "metadata": {},
   "outputs": [
    {
     "name": "stdout",
     "output_type": "stream",
     "text": [
      "[[  0.98 514.5  294.   110.25   0.     1.     0.     0.     0.     0.\n",
      "    0.     0.     0.     0.     0.    15.55  21.33]\n",
      " [  0.98 514.5  294.   110.25   0.     0.     1.     0.     0.     0.\n",
      "    0.     0.     0.     0.     0.    15.55  21.33]\n",
      " [  0.98 514.5  294.   110.25   0.     0.     0.     1.     0.     0.\n",
      "    0.     0.     0.     0.     0.    15.55  21.33]\n",
      " [  0.98 514.5  294.   110.25   0.     0.     0.     0.     1.     0.\n",
      "    0.     0.     0.     0.     0.    15.55  21.33]\n",
      " [  0.9  563.5  318.5  122.5    0.     1.     0.     0.     0.     0.\n",
      "    0.     0.     0.     0.     0.    20.84  28.28]]\n"
     ]
    }
   ],
   "source": [
    "import numpy as np\n",
    "\n",
    "def unpack_EnergyEfficiency_data():\n",
    "    raw = np.genfromtxt('EnergyEfficiency_data.csv', skip_header=1, delimiter=',')\n",
    "    N = raw.shape[0]\n",
    "    data = np.zeros((N,17))\n",
    "    data[:,:4] = raw[:,:4]     #comp, surf, wall, roof, \n",
    "    #data[:,4] = raw[:,4]       #hight\n",
    "    data[:,5] = raw[:,5] == 2  #ori north\n",
    "    data[:,6] = raw[:,5] == 3  #ori east\n",
    "    data[:,7] = raw[:,5] == 4  #ori south\n",
    "    data[:,8] = raw[:,5] == 5  #ori west\n",
    "    data[:,9] = raw[:,6]       #area\n",
    "    data[:,10] = raw[:,7] == 1 #area uniform\n",
    "    data[:,11] = raw[:,7] == 2 #area north\n",
    "    data[:,12] = raw[:,7] == 3 #area east\n",
    "    data[:,13] = raw[:,7] == 4 #area south\n",
    "    data[:,14] = raw[:,7] == 5 #area west\n",
    "    data[:,15:] = raw[:,8:]    #heat, cold\n",
    "    return data, N\n",
    "\n",
    "#fix the random seed for the reproducibility.\n",
    "#(another hyper-param)\n",
    "np.random.seed(15)\n",
    "\n",
    "def gen_data(data, epochs, batch_size, with_trails=False):\n",
    "    step = 0\n",
    "    N = data.shape[0]\n",
    "    X = np.zeros((batch_size, 15))\n",
    "    T = np.zeros((batch_size, 1))\n",
    "    for e in range(epochs):\n",
    "        for n in range(N):\n",
    "            i = int(step % batch_size)\n",
    "            X[i] = data[n,:15]\n",
    "            T[i] = data[n,-2]\n",
    "            step += 1\n",
    "            is_trail = not with_trails and n+batch_size >= N\n",
    "            if not step % batch_size:\n",
    "                yield X, T, e+is_trail, step\n",
    "        if with_trails and step % batch_size:\n",
    "            yield X[:i], T[:i], e+1, step\n",
    "\n",
    "def init_params(inp, outp, scale=1):\n",
    "    weights = np.random.randn(inp, outp)\n",
    "    bias = np.zeros(outp)\n",
    "    while not np.all(weights):\n",
    "        malicious = weights==0.0\n",
    "        weights[malicious] = np.random.randn(malicious.shape)\n",
    "    weights *= scale\n",
    "    return weights, bias\n",
    "\n",
    "def split_data(data, N):\n",
    "    shuffle = np.arange(N)\n",
    "    np.random.shuffle(shuffle)\n",
    "    data = data[shuffle]\n",
    "    split = int(N*0.7)\n",
    "    train = data[:split]\n",
    "    val = data[split:]\n",
    "    return train, val, shuffle\n",
    "\n",
    "data, N = unpack_EnergyEfficiency_data()\n",
    "train, val, shuffle = split_data(data, N)\n",
    "\n",
    "#test\n",
    "print(data[:5])"
   ]
  },
  {
   "cell_type": "markdown",
   "metadata": {},
   "source": [
    "## Configure the Network"
   ]
  },
  {
   "cell_type": "code",
   "execution_count": 134,
   "metadata": {},
   "outputs": [
    {
     "data": {
      "image/png": "[encoded data removed]",
      "text/plain": [
       "<Figure size 432x288 with 1 Axes>"
      ]
     },
     "metadata": {
      "needs_background": "light"
     },
     "output_type": "display_data"
    }
   ],
   "source": [
    "nn = NeuralNetwork(\n",
    "    lambda: gen_data(train, 250, 20),\n",
    "    lambda: gen_data(val, 1, 1),\n",
    "    SOS,\n",
    "    SOS\n",
    ")\n",
    "\n",
    "Fc1 = FcLayer(init_params(15, 10, scale=1),\n",
    "              Sigmoid, #act func\n",
    "              nn.gen_input,\n",
    "              None\n",
    "             )\n",
    "\n",
    "Fc2 = FcLayer(init_params(10, 10, scale=2),\n",
    "              Sigmoid,\n",
    "              Fc1.poll_forward,\n",
    "              Fc1.push_backward\n",
    "             )\n",
    "\n",
    "Fc3 = FcLayer(init_params(10, 10, scale=2),\n",
    "              Sigmoid,\n",
    "              Fc2.poll_forward,\n",
    "              Fc2.push_backward\n",
    "             )\n",
    "\n",
    "Out = FcLayer(init_params(10, 1, scale=1),\n",
    "              Linear,\n",
    "              Fc3.poll_forward,\n",
    "              Fc3.push_backward\n",
    "             )\n",
    "\n",
    "import matplotlib.pyplot as plt\n",
    "\n",
    "def run_training(nn):\n",
    "    training = []\n",
    "    validation = []\n",
    "    epoch = 0\n",
    "    cost = 0\n",
    "    for Z in nn.train(Out, 1e-5, 1e-5):\n",
    "        cost += Z / train.shape[0]\n",
    "        if nn.epoch > epoch:\n",
    "            loss = 0\n",
    "            epoch = nn.epoch\n",
    "            for Zv in nn.val(Out):\n",
    "                loss += Zv / val.shape[0]\n",
    "            validation.append(loss)\n",
    "            training.append(cost)\n",
    "            cost = 0\n",
    "    return training, validation\n",
    "\n",
    "training, validation = run_training(nn)\n",
    "ax = plt.figure().subplots(1)\n",
    "ax.plot(range(nn.epoch), training, label='train')\n",
    "ax.plot(range(nn.epoch), validation, label='val', linestyle=':')\n",
    "ax.set_xlabel(\"Epoch\")\n",
    "ax.set_ylabel(\"Loss\")\n",
    "plt.title(\"Learning curves\")\n",
    "plt.legend()\n",
    "plt.show()"
   ]
  },
  {
   "cell_type": "code",
   "execution_count": 135,
   "metadata": {},
   "outputs": [
    {
     "data": {
      "image/png": "[encoded data removed]",
      "text/plain": [
       "<Figure size 432x288 with 1 Axes>"
      ]
     },
     "metadata": {
      "needs_background": "light"
     },
     "output_type": "display_data"
    }
   ],
   "source": [
    "nn.val_set = lambda: gen_data(data, 1, 1)\n",
    "target = []\n",
    "pred = []\n",
    "for Zv in nn.val(Out):\n",
    "    target.append(nn.T[0][0])\n",
    "    pred.append(Out.y[0][0])\n",
    "\n",
    "plt.plot(range(N), pred, label='prediction')\n",
    "plt.plot(range(N), target, label='target', linestyle=':')\n",
    "\n",
    "plt.legend()\n",
    "plt.show()"
   ]
  },
  {
   "cell_type": "code",
   "execution_count": 16,
   "metadata": {},
   "outputs": [
    {
     "name": "stdout",
     "output_type": "stream",
     "text": [
      "[[0.2082483  0.4433677  0.71560128 0.41051979 0.19100696 0.96749431\n",
      "  0.65075037 0.86545985 0.02524236 0.26690581]\n",
      " [0.5020711  0.06744864 0.99303326 0.2364624  0.37429218 0.21401191\n",
      "  0.10544587 0.23247979 0.30061014 0.63444227]\n",
      " [0.28123478 0.36227676 0.00594284 0.36571913 0.53388598 0.16201584\n",
      "  0.59743311 0.29315247 0.63205049 0.02619661]\n",
      " [0.88759346 0.01611863 0.12695803 0.77716246 0.04589523 0.71099869\n",
      "  0.97104614 0.87168293 0.71016165 0.95850974]\n",
      " [0.42981334 0.87287891 0.35595767 0.92976365 0.14877766 0.94002901\n",
      "  0.8327162  0.84605484 0.12392301 0.5964869 ]\n",
      " [0.01639248 0.72118437 0.00773751 0.08482228 0.22549841 0.87512453\n",
      "  0.36357632 0.53995994 0.56810321 0.22546336]\n",
      " [0.57214677 0.6609518  0.29824539 0.41862686 0.45308892 0.93235066\n",
      "  0.58749375 0.94825237 0.55603475 0.50056142]\n",
      " [0.00353221 0.48088904 0.927455   0.19836569 0.05209113 0.40677889\n",
      "  0.37239648 0.85715306 0.02661112 0.92014923]\n",
      " [0.680903   0.90422599 0.60752907 0.81195331 0.33554387 0.34956623\n",
      "  0.38987423 0.75479708 0.36929117 0.24221981]\n",
      " [0.93766836 0.90801108 0.34879732 0.63463807 0.27384221 0.20611513\n",
      "  0.33633953 0.32709989 0.8822761  0.82230381]]\n",
      "[[1.06882599 1.25956642 1.58207911 1.25354764 1.14350192 1.76796017\n",
      "  1.47754821 1.62791902 0.90197092 1.09434048]\n",
      " [1.36804816 0.88876828 1.86494748 1.0847795  1.33276322 1.01949999\n",
      "  0.93743114 0.99972272 1.1828394  1.46706835]\n",
      " [1.14884336 1.18514379 0.87949976 1.21563447 1.49416279 0.96902147\n",
      "  1.43098585 1.06184089 1.51594189 0.86039137]\n",
      " [1.76088539 0.84437592 1.00623726 1.63264526 1.01246242 1.52329069\n",
      "  1.81005915 1.64540672 1.59984306 1.79816898]\n",
      " [1.30153666 1.6996485  1.23365754 1.78370984 1.1136087  1.75086197\n",
      "  1.67022218 1.61838887 1.01200637 1.43463794]\n",
      " [0.87732703 1.53772154 0.87457465 0.9281997  1.17838835 1.67592232\n",
      "  1.19071701 1.30273527 1.44519533 1.05324113]\n",
      " [1.41024156 1.45582703 1.14208618 1.2396303  1.38069962 1.71190407\n",
      "  1.39269121 1.69079202 1.40985847 1.30637906]\n",
      " [0.87607496 1.30843579 1.80597991 1.05311458 1.01782912 1.21837404\n",
      "  1.21068972 1.63021309 0.91552928 1.75908814]\n",
      " [1.55397442 1.73227416 1.48658629 1.6672201  1.30186701 1.16165312\n",
      "  1.2286754  1.52832551 1.25874794 1.08166703]\n",
      " [1.79397445 1.72015848 1.21097425 1.47348142 1.22160933 1.00260776\n",
      "  1.15903344 1.08577448 1.75465289 1.64563138]]\n",
      "[[1.63113125 1.79826341 2.14804006 1.80724138 1.75394991 2.29819861\n",
      "  2.02243826 2.13865585 1.47243486 1.63960182]\n",
      " [1.93034653 1.42745867 2.4309015  1.63846647 1.94320372 1.54973194\n",
      "  1.48231451 1.51045328 1.75329634 2.01232302]\n",
      " [1.71113526 1.72382798 1.44544727 1.76931507 2.10459628 1.49924731\n",
      "  1.97586296 1.57256559 2.08639228 1.40563976]\n",
      " [2.32319413 1.38307625 1.57220172 2.18634244 1.62291419 2.05353241\n",
      "  2.35495257 2.15614671 2.17031053 2.3434337 ]\n",
      " [1.86384536 2.23834878 1.79962195 2.33740697 1.72406042 2.28110365\n",
      "  2.21511555 2.12912882 1.5824738  1.97990262]\n",
      " [1.43961433 2.07640132 1.44051753 1.48187577 1.78881684 2.20614383\n",
      "  1.73558965 1.81345579 2.01564105 1.59848506]\n",
      " [1.97254927 1.99452637 1.7080496  1.79332647 1.99115027 2.24214482\n",
      "  1.93758362 2.20153108 1.98032489 1.85164278]\n",
      " [1.43838255 1.84713501 2.37194321 1.60681063 1.62827964 1.74861468\n",
      "  1.75558202 2.14095203 1.48599558 2.30435174]\n",
      " [2.1162831  2.27097442 2.05255068 2.22091722 1.9123187  1.69189478\n",
      "  1.77356875 2.03906544 1.82921534 1.62693169]\n",
      " [2.35628246 2.25885811 1.77693798 2.02717789 1.83206031 1.5328488\n",
      "  1.70392616 1.59651381 2.32511963 2.1908954 ]]\n",
      "[[1.82082304 1.97614989 2.33955948 1.99262737 1.96771239 2.47185557\n",
      "  2.20342155 2.30256243 1.66620464 1.82077144]\n",
      " [2.12003832 1.60534515 2.62242092 1.82385245 2.15696621 1.72338889\n",
      "  1.6632978  1.67435986 1.94706613 2.19349264]\n",
      " [1.90082705 1.90171447 1.6369667  1.95470106 2.31835876 1.67290427\n",
      "  2.15684626 1.73647217 2.28016206 1.58680939]\n",
      " [2.51288592 1.56096273 1.76372114 2.37172842 1.83667667 2.22718937\n",
      "  2.53593587 2.32005329 2.36408031 2.52460332]\n",
      " [2.05353714 2.41623526 1.99114138 2.52279295 1.9378229  2.45476061\n",
      "  2.39609885 2.2930354  1.77624358 2.16107224]\n",
      " [1.62930612 2.25428781 1.63203695 1.66726176 2.00257932 2.37980079\n",
      "  1.91657295 1.97736237 2.20941083 1.77965468]\n",
      " [2.16224106 2.17241285 1.89956903 1.97871245 2.20491275 2.41580178\n",
      "  2.11856692 2.36543766 2.17409468 2.0328124 ]\n",
      " [1.62807434 2.0250215  2.56346264 1.79219661 1.84204213 1.92227164\n",
      "  1.93656532 2.30485861 1.67976537 2.48552136]\n",
      " [2.30597488 2.4488609  2.2440701  2.4063032  2.12608119 1.86555174\n",
      "  1.95455204 2.20297202 2.02298513 1.80810131]\n",
      " [2.54597425 2.43674459 1.96845741 2.21256387 2.04582279 1.70650576\n",
      "  1.88490945 1.76042039 2.51888941 2.37206502]]\n",
      "[[1.97159893 2.12102314 2.4912492  2.14125036 2.13052364 2.61461404\n",
      "  2.3498432  2.44044572 1.81901953 1.96728625]\n",
      " [2.27081421 1.7502184  2.77411063 1.97247544 2.31977745 1.86614737\n",
      "  1.80971945 1.81224315 2.09988102 2.34000745]\n",
      " [2.05160294 2.04658771 1.78865641 2.10332405 2.48117001 1.81566275\n",
      "  2.3032679  1.87435546 2.43297696 1.7333242 ]\n",
      " [2.66366181 1.70583597 1.91541086 2.52035141 1.99948792 2.36994785\n",
      "  2.68235752 2.45793658 2.51689521 2.67111813]\n",
      " [2.20431304 2.5611085  2.14283109 2.67141595 2.10063415 2.59751909\n",
      "  2.5425205  2.43091869 1.92905848 2.30758705]\n",
      " [1.78008201 2.39916105 1.78372666 1.81588475 2.16539057 2.52255927\n",
      "  2.0629946  2.11524566 2.36222572 1.9261695 ]\n",
      " [2.31301696 2.3172861  2.05125874 2.12733544 2.367724   2.55856026\n",
      "  2.26498857 2.50332095 2.32690957 2.17932721]\n",
      " [1.77885023 2.16989474 2.71515235 1.94081961 2.00485337 2.06503012\n",
      "  2.08298697 2.4427419  1.83258026 2.63203617]\n",
      " [2.45675078 2.59373414 2.39575982 2.55492619 2.28889243 2.00831022\n",
      "  2.10097369 2.34085531 2.17580002 1.95461612]\n",
      " [2.69675015 2.58161784 2.12014712 2.36118687 2.20863404 1.84926424\n",
      "  2.0313311  1.89830368 2.6717043  2.51857983]]\n",
      "[[1.94329688 2.08976976 2.46340405 2.11187186 2.10823926 2.58230328\n",
      "  2.31936403 2.40569736 1.79173698 1.93685366]\n",
      " [2.24251216 1.71896502 2.74626549 1.94309694 2.29749307 1.83383661\n",
      "  1.77924028 1.7774948  2.07259847 2.30957485]\n",
      " [2.02330089 2.01533433 1.76081126 2.07394555 2.45888563 1.78335199\n",
      "  2.27278873 1.83960711 2.4056944  1.7028916 ]\n",
      " [2.63535976 1.67458259 1.88756571 2.49097291 1.97720354 2.33763709\n",
      "  2.65187834 2.42318823 2.48961265 2.64068553]\n",
      " [2.17601098 2.52985512 2.11498595 2.64203744 2.07834977 2.56520833\n",
      "  2.51204132 2.39617033 1.90177592 2.27715445]\n",
      " [1.75177996 2.36790767 1.75588152 1.78650624 2.14310619 2.49024851\n",
      "  2.03251542 2.0804973  2.33494317 1.8957369 ]\n",
      " [2.2847149  2.28603272 2.0234136  2.09795694 2.34543962 2.52624949\n",
      "  2.2345094  2.46857259 2.29962702 2.14889461]\n",
      " [1.75054818 2.13864136 2.68730721 1.9114411  1.98256899 2.03271936\n",
      "  2.05250779 2.40799355 1.80529771 2.60160358]\n",
      " [2.42844873 2.56248076 2.36791467 2.52554769 2.26660805 1.97599946\n",
      "  2.07049452 2.30610695 2.14851747 1.92418352]\n",
      " [2.66844809 2.55036446 2.09230198 2.33180836 2.18634966 1.81695348\n",
      "  2.00085193 1.86355533 2.64442175 2.48814724]]\n",
      "[[1.97222585 2.11722307 2.49256148 2.1402626  2.14017707 2.6092279\n",
      "  2.34720444 2.43140318 1.8211757  1.96471736]\n",
      " [2.27144113 1.74641833 2.77542292 1.97148769 2.32943088 1.86076123\n",
      "  1.80708069 1.80320062 2.10203719 2.33743855]\n",
      " [2.05222986 2.04278764 1.78996869 2.10233629 2.49082344 1.81027661\n",
      "  2.30062914 1.86531293 2.43513313 1.7307553 ]\n",
      " [2.66428873 1.70203591 1.91672314 2.51936366 2.00914135 2.36456171\n",
      "  2.67971875 2.44889405 2.51905137 2.66854924]\n",
      " [2.20493996 2.55730843 2.14414337 2.67042819 2.11028758 2.59213295\n",
      "  2.53988173 2.42187615 1.93121465 2.30501816]\n",
      " [1.78070893 2.39536098 1.78503895 1.81489699 2.175044   2.51717313\n",
      "  2.06035584 2.10620313 2.36438189 1.9236006 ]\n",
      " [2.31364388 2.31348603 2.05257102 2.12634769 2.37737743 2.55317411\n",
      "  2.26234981 2.49427841 2.32906574 2.17675832]\n",
      " [1.77947715 2.16609467 2.71646463 1.93983185 2.0145068  2.05964398\n",
      "  2.08034821 2.43369937 1.83473643 2.62946728]\n",
      " [2.4573777  2.58993407 2.3970721  2.55393844 2.29854586 2.00292408\n",
      "  2.09833493 2.33181278 2.17795619 1.95204723]\n",
      " [2.69737707 2.57781777 2.12145941 2.36019911 2.21828747 1.8438781\n",
      "  2.02869234 1.88926115 2.67386047 2.51601094]]\n",
      "[[1.86976034 2.01401972 2.39021019 2.03752798 2.03921598 2.50576021\n",
      "  2.24419465 2.3273261  1.71896507 1.86171921]\n",
      " [2.16897562 1.64321498 2.67307163 1.86875306 2.22846979 1.75729354\n",
      "  1.7040709  1.69912353 1.99982655 2.23444041]\n",
      " [1.94976435 1.93958429 1.68761741 1.99960167 2.38986234 1.70680892\n",
      "  2.19761935 1.76123584 2.33292249 1.62775715]\n",
      " [2.56182322 1.59883256 1.81437186 2.41662903 1.90818026 2.26109402\n",
      "  2.57670896 2.34481696 2.41684074 2.56555109]\n",
      " [2.10247444 2.45410509 2.04179209 2.56769356 2.00932649 2.48866526\n",
      "  2.43687194 2.31779907 1.82900401 2.20202001]\n",
      " [1.67824342 2.29215764 1.68268766 1.71216237 2.07408291 2.41370544\n",
      "  1.95734604 2.00212604 2.26217126 1.82060245]\n",
      " [2.21117836 2.21028268 1.95021974 2.02361306 2.27641634 2.44970642\n",
      "  2.15934001 2.39020133 2.2268551  2.07376017]\n",
      " [1.67701164 2.06289133 2.61411335 1.83709723 1.91354571 1.95617628\n",
      "  1.97733841 2.32962228 1.73252579 2.52646913]\n",
      " [2.35491219 2.48673073 2.29472081 2.45120381 2.19758477 1.89945639\n",
      "  1.99532514 2.22773569 2.07574555 1.84904908]\n",
      " [2.59491155 2.47461442 2.01910812 2.25746449 2.11732638 1.74041041\n",
      "  1.92568255 1.78518406 2.57164983 2.41301279]]\n",
      "[[1.88676758 2.03065805 2.40727455 2.05440067 2.05697543 2.52226637\n",
      "  2.26092975 2.34352755 1.73609975 1.87846014]\n",
      " [2.18598286 1.65985331 2.69013599 1.88562575 2.24622924 1.7737997\n",
      "  1.720806   1.71532499 2.01696123 2.25118133]\n",
      " [1.96677159 1.95622262 1.70468176 2.01647436 2.4076218  1.72331508\n",
      "  2.21435445 1.7774373  2.35005717 1.64449808]\n",
      " [2.57883046 1.61547089 1.83143621 2.43350172 1.92593971 2.27760017\n",
      "  2.59344406 2.36101842 2.43397542 2.58229201]\n",
      " [2.11948169 2.47074342 2.05885645 2.58456625 2.02708594 2.50517142\n",
      "  2.45360704 2.33400052 1.84613869 2.21876093]\n",
      " [1.69525067 2.30879596 1.69975202 1.72903505 2.09184236 2.43021159\n",
      "  1.97408115 2.01832749 2.27930594 1.83734338]\n",
      " [2.22818561 2.22692101 1.9672841  2.04048575 2.29417579 2.46621258\n",
      "  2.17607512 2.40640278 2.24398978 2.09050109]\n",
      " [1.69401888 2.07952965 2.63117771 1.85396991 1.93130516 1.97268244\n",
      "  1.99407351 2.34582373 1.74966047 2.54321006]\n",
      " [2.37191943 2.50336906 2.31178517 2.4680765  2.21534422 1.91596255\n",
      "  2.01206024 2.24393714 2.09288023 1.86579   ]\n",
      " [2.6119188  2.49125275 2.03617248 2.27433717 2.13508583 1.75691656\n",
      "  1.94241765 1.80138552 2.58878452 2.42975372]]\n",
      "[[2.0104712  2.15417721 2.53100673 2.17803701 2.18105515 2.64571945\n",
      "  2.3844973  2.46682828 1.85986709 2.0020306 ]\n",
      " [2.30968649 1.78337247 2.81386817 2.00926209 2.37030897 1.89725278\n",
      "  1.84437355 1.83862571 2.14072857 2.37475179]\n",
      " [2.09047522 2.07974179 1.82841394 2.1401107  2.53170152 1.84676815\n",
      "  2.337922   1.90073802 2.47382451 1.76806854]\n",
      " [2.70253408 1.73899005 1.95516839 2.55713806 2.05001943 2.40105325\n",
      "  2.71701161 2.48431915 2.55774276 2.70586248]\n",
      " [2.24318531 2.59426258 2.18258862 2.70820259 2.15116566 2.62862449\n",
      "  2.57717459 2.45730125 1.96990603 2.3423314 ]\n",
      " [1.81895429 2.43231513 1.8234842  1.8526714  2.21592209 2.55366467\n",
      "  2.0976487  2.14162822 2.40307328 1.96091384]\n",
      " [2.35188923 2.35044017 2.09101627 2.16412209 2.41825551 2.58966566\n",
      "  2.29964267 2.52970351 2.36775712 2.21407156]\n",
      " [1.8177225  2.20304882 2.75490988 1.97760626 2.05538489 2.09613552\n",
      "  2.11764107 2.46912446 1.87342781 2.66678052]\n",
      " [2.49562305 2.62688822 2.43551735 2.59171284 2.33942395 2.03941562\n",
      "  2.13562779 2.36723787 2.21664757 1.98936047]\n",
      " [2.73562242 2.61477191 2.15990466 2.39797352 2.25916555 1.88036964\n",
      "  2.0659852  1.92468625 2.71255186 2.55332418]]\n"
     ]
    }
   ],
   "source": [
    "np.random.seed(123)\n",
    "class NeuralNetwork2:\n",
    "    def __init__(self, lr):\n",
    "        self.weights1   = np.random.rand(15,10) \n",
    "        self.weights2   = np.random.rand(10,10)     \n",
    "        self.weights3   = np.random.rand(10,10)\n",
    "        self.lr         = lr\n",
    "        pass\n",
    "\n",
    "    def feedforward(self, x):\n",
    "        self.layer1 = Sigmoid.f(np.dot(x, self.weights1))\n",
    "        self.layer2 = Sigmoid.f(np.dot(self.layer1, self.weights2))\n",
    "        self.output = np.dot(self.layer2, self.weights3)\n",
    "        return self.output\n",
    "\n",
    "    def backprop(self, x, cost):\n",
    "        s2 = np.dot(cost, self.weights3.T) * Sigmoid.d(self.layer2)\n",
    "        s1 = np.dot(s2, self.weights2.T) * Sigmoid.d(self.layer1)\n",
    "        \n",
    "        d_weights3 = np.dot(self.layer2.T, cost)\n",
    "        d_weights2 = np.dot(self.layer1.T, s2)\n",
    "        d_weights1 = np.dot(x.T, s1)\n",
    "        \n",
    "        print(self.weights3)\n",
    "        \n",
    "        self.weights3 += d_weights3 * self.lr\n",
    "        self.weights2 += d_weights2 * self.lr\n",
    "        self.weights1 += d_weights1 * self.lr\n",
    "        pass\n",
    "\n",
    "nn2 = NeuralNetwork2(0.0005)\n",
    "epoch = 0\n",
    "for X, T, e, step in gen_data(train, 1, 50):\n",
    "    Y = nn2.feedforward(X)\n",
    "    cost = SOS.d(T,Y)\n",
    "    nn2.backprop(X, cost)\n",
    "    if e > epoch:\n",
    "        epoch = e\n",
    "        loss = 0\n",
    "        nn2.lr -= nn2.lr * 0.001\n",
    "        for X, T, e, step in gen_data(val, 1, 1):\n",
    "            Y = nn2.feedforward(X)\n",
    "            loss += RMS.f(T, Y) / val.shape[0]\n",
    "        #print(\"Epoch:\", epoch, \"Loss:\", loss)"
   ]
  },
  {
   "cell_type": "code",
   "execution_count": 97,
   "metadata": {},
   "outputs": [
    {
     "data": {
      "text/plain": [
       "array([2.48510579, 3.35172188, 3.19123727])"
      ]
     },
     "execution_count": 97,
     "metadata": {},
     "output_type": "execute_result"
    }
   ],
   "source": [
    "a = np.array(np.random.rand(3,5))\n",
    "a = np.sum(a, axis=1)\n",
    "a"
   ]
  },
  {
   "cell_type": "code",
   "execution_count": null,
   "metadata": {},
   "outputs": [],
   "source": []
  }
 ],
 "metadata": {
  "kernelspec": {
   "display_name": "Python 3",
   "language": "python",
   "name": "python3"
  },
  "language_info": {
   "codemirror_mode": {
    "name": "ipython",
    "version": 3
   },
   "file_extension": ".py",
   "mimetype": "text/x-python",
   "name": "python",
   "nbconvert_exporter": "python",
   "pygments_lexer": "ipython3",
   "version": "3.7.3"
  }
 },
 "nbformat": 4,
 "nbformat_minor": 2
}
