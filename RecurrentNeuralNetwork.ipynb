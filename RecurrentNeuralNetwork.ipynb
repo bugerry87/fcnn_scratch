{
 "cells": [
  {
   "cell_type": "markdown",
   "metadata": {},
   "source": [
    "# Recurrent Neural Network\n",
    "\n",
    "Gerald Baulig 0780827 2019/12/24\n",
    "\n",
    "GitHub: https://github.com/bugerry87/fcnn_scratch\n",
    "\n",
    "---\n",
    "\n",
    "In this assignment we were asked to implement a Reccurent Neural Network (RNN).\n",
    "We will use an RNN and sub-versions of RNN such as LSTM for naiv text generating.\n",
    "An RNN is a Neural Network with a feedback loop and therewith useful to perform on sequential data.\n",
    "General speaking, an RNN concartinates its own output with the input of the next (time)-frame continuously to a finite number of iterations, mostly definde by the sequence length.\n",
    "A typical use case and implemented in this assignment is to predict the next symbol, based on a given sequence of symbols.\n",
    "\n",
    "The dataset we have to process in this assignment is a section of a Shakespear's Coriolanus, but could be also any other kind of structured text. Ensure, the `data` folder has these two files:\n",
    "\n",
    "    shakespeare_train.txt\n",
    "    shakespeare_valid.txt\n",
    "\n",
    "Furthermore, preinstall the following packages:"
   ]
  },
  {
   "cell_type": "code",
   "execution_count": 1,
   "metadata": {},
   "outputs": [
    {
     "name": "stdout",
     "output_type": "stream",
     "text": [
      "Tested Tensorflow Version: 2.0\n",
      "Current Tensorflow Version: 2.0.0\n"
     ]
    }
   ],
   "source": [
    "## Global imports\n",
    "import matplotlib.pyplot as plt\n",
    "import numpy as np\n",
    "import tensorflow as tf\n",
    "from tensorflow.keras import layers\n",
    "\n",
    "print(\"Tested Tensorflow Version: 2.0\")\n",
    "print(\"Current Tensorflow Version:\", tf.__version__)"
   ]
  },
  {
   "cell_type": "markdown",
   "metadata": {},
   "source": [
    "## Data Preparation\n",
    "\n",
    "To enable our RNN to read and to write, we need to vectorize our text and keep a dictionary from the vectoriztion, such that we are able to translate back to human-readable text.\n",
    "UTF-8 covers 128 symbols, however, our treining text is only using a part of this set.\n",
    "The usage of symbols that are not included in out training text woun't never be learned.\n",
    "Hence, we can ignore those.\n",
    "The vectoraziation squeezes the set of symboles to a required minimal set.\n",
    "By doing so, the hot-vector for the cross-entopy will be smaller and therewith our final model."
   ]
  },
  {
   "cell_type": "code",
   "execution_count": 2,
   "metadata": {},
   "outputs": [
    {
     "name": "stdout",
     "output_type": "stream",
     "text": [
      "\n",
      "--- Plain Text: 229972 ---\n",
      " DUKE ORSINO:\r\n",
      "If music be the food of love, play on;\r\n",
      "Give me excess of it, that, surfeiting,\r\n",
      "The a ...\n",
      "\n",
      "--- Numpy Array: (229972,) ---\n",
      " [ 68  85  75  69  32  79  82  83  73  78  79  58  13  10  73 102  32 109\n",
      " 117 115 105  99  32  98 101  32 116 104 101  32 102 111 111 100  32 111\n",
      " 102  32 108 111 118 101  44  32 112 108  97 121  32 111 110  59  13  10\n",
      "  71 105 118 101  32 109 101  32 101 120  99 101 115 115  32 111 102  32\n",
      " 105 116  44  32 116 104  97 116  44  32 115 117 114 102 101 105 116 105\n",
      " 110 103  44  13  10  84 104 101  32  97] ...\n",
      "\n",
      "--- Vocabular: (63,) ---\n",
      " [10 13 32 33 39 44 45 46 58 59] ...\n",
      "\n",
      "--- Dictionary ---\n",
      " {10: 0, 13: 1, 32: 2, 33: 3, 39: 4, 44: 5, 45: 6, 46: 7, 58: 8, 59: 9, 63: 10, 65: 11, 66: 12, 67: 13, 68: 14, 69: 15, 70: 16, 71: 17, 72: 18, 73: 19, 74: 20, 75: 21, 76: 22, 77: 23, 78: 24, 79: 25, 80: 26, 81: 27, 82: 28, 83: 29, 84: 30, 85: 31, 86: 32, 87: 33, 88: 34, 89: 35, 90: 36, 97: 37, 98: 38, 99: 39, 100: 40, 101: 41, 102: 42, 103: 43, 104: 44, 105: 45, 106: 46, 107: 47, 108: 48, 109: 49, 110: 50, 111: 51, 112: 52, 113: 53, 114: 54, 115: 55, 116: 56, 117: 57, 118: 58, 119: 59, 120: 60, 121: 61, 122: 62}\n",
      "\n",
      "--- Vectorized Text: (229972,) ---\n",
      " [14 31 21 15  2 25 28 29 19 24 25  8  1  0 19 42  2 49 57 55 45 39  2 38\n",
      " 41  2 56 44 41  2 42 51 51 40  2 51 42  2 48 51 58 41  5  2 52 48 37 61\n",
      "  2 51 50  9  1  0 17 45 58 41  2 49 41  2 41 60 39 41 55 55  2 51 42  2\n",
      " 45 56  5  2 56 44 37 56  5  2 55 57 54 42 41 45 56 45 50 43  5  1  0 30\n",
      " 44 41  2 37] ...\n"
     ]
    }
   ],
   "source": [
    "def load_data(filename, verbose=False):\n",
    "    with open(filename, 'rb') as fid:\n",
    "        text = fid.read()\n",
    "        pass\n",
    "    np_text = np.array(list(text))\n",
    "    vocab = np.unique(list(text))\n",
    "    vocab_dict = {c:i for i, c in enumerate(vocab)}\n",
    "    vec_text = np.array([vocab_dict[c] for c in np_text])\n",
    "    if verbose:\n",
    "        print(\"\\n--- Plain Text:\", len(text), \"---\\n\", text[:100].decode('utf-8'), \"...\")\n",
    "        print(\"\\n--- Numpy Array:\", np_text.shape, \"---\\n\", np_text[:100], \"...\")\n",
    "        print(\"\\n--- Vocabular:\", vocab.shape, \"---\\n\", vocab[:10], \"...\")\n",
    "        print(\"\\n--- Dictionary ---\\n\", vocab_dict)\n",
    "        print(\"\\n--- Vectorized Text:\", vec_text.shape, \"---\\n\", vec_text[:100], \"...\")\n",
    "    return vec_text, vocab, vocab_dict\n",
    "\n",
    "## Run!\n",
    "val, _, _ = load_data('data/shakespeare_valid.txt', True)\n",
    "train, vocab, vocab_dict = load_data('data/shakespeare_train.txt')"
   ]
  },
  {
   "cell_type": "markdown",
   "metadata": {},
   "source": [
    "### Create Tensorflow Datagenerators\n",
    "\n",
    "Such that the vectorized text can be easily used in the Keras-Tensorflow API,\n",
    "we prepare some data-generators.\n",
    "Those chunk our data to batches and randomize them."
   ]
  },
  {
   "cell_type": "code",
   "execution_count": 3,
   "metadata": {},
   "outputs": [
    {
     "name": "stdout",
     "output_type": "stream",
     "text": [
      "<BatchDataset shapes: ((64, 100), (64, 100)), types: (tf.int32, tf.int32)>\n",
      "\n",
      "--- Input Y: ---\n",
      " deliberate,\r\n",
      "Not rash like his accusers, and thus answer'd:\r\n",
      "'True is it, my incorporate friends,' q\n",
      "\n",
      "--- Target T: ---\n",
      " eliberate,\r\n",
      "Not rash like his accusers, and thus answer'd:\r\n",
      "'True is it, my incorporate friends,' qu\n"
     ]
    }
   ],
   "source": [
    "def mapping(chunk):\n",
    "    y = chunk[:-1]\n",
    "    t = chunk[1:]\n",
    "    return y, t\n",
    "\n",
    "def create_datagenerator(data, chunk_sz, batch_sz, buffer_sz):\n",
    "    dataset = tf.data.Dataset.from_tensor_slices(data)\n",
    "    dataset = dataset.batch(chunk_sz+1, drop_remainder=True)\n",
    "    dataset = dataset.map(mapping)\n",
    "    dataset = dataset.shuffle(buffer_sz).batch(batch_sz, drop_remainder=True)\n",
    "    return dataset\n",
    "\n",
    "## Run!\n",
    "chunk_size = 100\n",
    "batch_size = 64\n",
    "\n",
    "train_set = create_datagenerator(train, chunk_size, batch_size, buffer_sz=1000)\n",
    "val_set = create_datagenerator(train, chunk_size, batch_size, buffer_sz=200)\n",
    "\n",
    "print(val_set)\n",
    "for batch in val_set.take(1):\n",
    "    print(\"\\n--- Input Y: ---\\n\", bytes([vocab[i] for i in batch[0].numpy()[0]]).decode('utf-8'))\n",
    "    print(\"\\n--- Target T: ---\\n\", bytes([vocab[i] for i in batch[1].numpy()[0]]).decode('utf-8'))"
   ]
  },
  {
   "cell_type": "markdown",
   "metadata": {},
   "source": [
    "## Setup a SimpleRNN\n",
    "\n",
    "Let's setup a most simple RNN with (just) 1024 units.\n",
    "Fortunately, Keras provides an easy to use off-the-shalf RNN layer.\n",
    "Since we want to generate text we require the `return_sequences` flag, instead of processing each character individualy.\n",
    "Since we want to learn from the text with was already read, we activate the `stateful` flag.\n",
    "\n",
    "We will observe that a simple RNN with 1024 units results in an already quite large network of +1M parameters.\n",
    "However, this is a relatively small RNN compared to the future experiments with LSTM and GRU."
   ]
  },
  {
   "cell_type": "code",
   "execution_count": 4,
   "metadata": {},
   "outputs": [
    {
     "name": "stdout",
     "output_type": "stream",
     "text": [
      "Model: \"sequential\"\n",
      "_________________________________________________________________\n",
      "Layer (type)                 Output Shape              Param #   \n",
      "=================================================================\n",
      "embedding (Embedding)        (64, None, 256)           17408     \n",
      "_________________________________________________________________\n",
      "simple_rnn (SimpleRNN)       (64, None, 1024)          1311744   \n",
      "_________________________________________________________________\n",
      "dense (Dense)                (64, None, 68)            69700     \n",
      "=================================================================\n",
      "Total params: 1,398,852\n",
      "Trainable params: 1,398,852\n",
      "Non-trainable params: 0\n",
      "_________________________________________________________________\n"
     ]
    }
   ],
   "source": [
    "def setup_rnn(inp_dim, emb_dim, units, batch_sz):\n",
    "    model = tf.keras.Sequential()\n",
    "    model.add(layers.Embedding(inp_dim, emb_dim, batch_input_shape=[batch_sz, None]))\n",
    "    model.add(layers.SimpleRNN(\n",
    "        units,\n",
    "        return_sequences=True,\n",
    "        stateful=True,\n",
    "        recurrent_initializer='glorot_uniform'\n",
    "    ))\n",
    "    model.add(layers.Dense(inp_dim))\n",
    "    return model\n",
    "\n",
    "def eval_acc(epoch, logs):\n",
    "    print(\"Test:\")\n",
    "    eval = model.evaluate(x_test, y_test)\n",
    "    logs['test_loss'] = eval[0]\n",
    "    logs['test_acc'] = eval[1]\n",
    "    print('Test loss:', eval[0], 'Test accuracy:', eval[1])\n",
    "\n",
    "## Run!\n",
    "inp_dim = vocab.size\n",
    "emb_dim = 256\n",
    "units = 1024\n",
    "batch_size = 64\n",
    "\n",
    "if 'model' in globals():\n",
    "    print(\"Clean up old model!\")\n",
    "    tf.keras.backend.clear_session()\n",
    "    del model\n",
    "\n",
    "model = setup_rnn(inp_dim, emb_dim, units, batch_size)\n",
    "model.summary()"
   ]
  },
  {
   "cell_type": "markdown",
   "metadata": {},
   "source": [
    "## Train a SimpleRNN\n",
    "\n",
    "We are asked to minimize our model to the so-called Bits-Per-Character (BPC) loss-function, which is literally the cross-entropy of two sequences:\n",
    "\n",
    "$$\n",
    "\\begin{equation}\n",
    "BPC = - \\frac{1}{N} \\sum_{n=1}^{N}\\sum_{k=1}^{K} t_{nk} \\log y_k (X_n, W)\n",
    "\\tag{7.1}\n",
    "\\end{equation}\n",
    "$$\n",
    "\n",
    "where $t$ is the target (ground truth) and $y$ our models prediction.\n",
    "$N$ is the length of the sequence and $K$ the number of classes (or length of the vocabular), while $n$ denotes the delay.\n",
    "\n",
    "Thanks to `Keras.sparse_categorial_crossentropy` we don't need to convert our label (the vectorized text) into a hot-vecter by our own. This makes the usage of our model much more photonic."
   ]
  },
  {
   "cell_type": "code",
   "execution_count": 5,
   "metadata": {},
   "outputs": [
    {
     "name": "stdout",
     "output_type": "stream",
     "text": [
      "Epoch 1/10\n",
      "697/697 [==============================] - 77s 111ms/step - loss: 2.0388 - val_loss: 0.0000e+00\n",
      "Epoch 2/10\n",
      "697/697 [==============================] - 76s 109ms/step - loss: 1.5605 - val_loss: 1.5384\n",
      "Epoch 3/10\n",
      "697/697 [==============================] - 77s 110ms/step - loss: 1.4437 - val_loss: 1.4630\n",
      "Epoch 4/10\n",
      "697/697 [==============================] - 77s 110ms/step - loss: 1.3888 - val_loss: 1.4189\n",
      "Epoch 5/10\n",
      "697/697 [==============================] - 77s 110ms/step - loss: 1.3564 - val_loss: 1.3882\n",
      "Epoch 6/10\n",
      "697/697 [==============================] - 77s 110ms/step - loss: 1.3353 - val_loss: 1.3721\n",
      "Epoch 7/10\n",
      "697/697 [==============================] - 77s 110ms/step - loss: 1.3190 - val_loss: 1.3549\n",
      "Epoch 8/10\n",
      "697/697 [==============================] - 76s 110ms/step - loss: 1.3068 - val_loss: 1.3458\n",
      "Epoch 9/10\n",
      "697/697 [==============================] - 77s 110ms/step - loss: 1.2966 - val_loss: 1.3429\n",
      "Epoch 10/10\n",
      "697/697 [==============================] - 77s 110ms/step - loss: 1.2883 - val_loss: 1.3287\n"
     ]
    }
   ],
   "source": [
    "from tensorflow.keras.losses import sparse_categorical_crossentropy\n",
    "from tensorflow.keras.callbacks import ModelCheckpoint\n",
    "\n",
    "def loss(labels, logits):\n",
    "    return sparse_categorical_crossentropy(labels, logits, from_logits=True)\n",
    "\n",
    "def run_training(model, trainset, valset, epochs, checkpoint):\n",
    "    mc = ModelCheckpoint(\n",
    "        filepath=checkpoint,\n",
    "        save_weights_only=True\n",
    "    )\n",
    "    model.compile(optimizer='adam', loss=loss)\n",
    "    return model.fit(trainset, epochs=epochs, validation_data=valset, callbacks=[mc])\n",
    "\n",
    "## Run!\n",
    "epochs = 10\n",
    "checkpoint = './models/rnn_{epoch}'\n",
    "history = run_training(model, train_set, val_set, epochs, checkpoint)"
   ]
  },
  {
   "cell_type": "markdown",
   "metadata": {},
   "source": [
    "Here we observe that a simple RNN performes relatively fast with 77s per epoch or rather 111ms per step.\n",
    "In this setup one step represents a batch of 64x100 characters.\n",
    "Hence, this RNN processes 6400 characters in 111ms.\n",
    "That implies ~57,657 per second.\n",
    "\n",
    "We achieved an validation loss of `val_loss: 1.3301`."
   ]
  },
  {
   "cell_type": "markdown",
   "metadata": {},
   "source": [
    "## Plot Learning Curves\n",
    "\n",
    "Let's plot the learning curves, which can be easily extracted from the `Keras.History`."
   ]
  },
  {
   "cell_type": "code",
   "execution_count": 6,
   "metadata": {},
   "outputs": [
    {
     "data": {
      "image/png": "[encoded data removed]",
      "text/plain": [
       "<Figure size 432x288 with 2 Axes>"
      ]
     },
     "metadata": {
      "needs_background": "light"
     },
     "output_type": "display_data"
    }
   ],
   "source": [
    "def plot_history(history):\n",
    "    ## Plot Training Loss\n",
    "    _, ax_l = plt.subplots(1)\n",
    "    ax_l.plot(history.history['loss'], label='train_loss')\n",
    "    ax_l.set_ylabel(\"Training\")\n",
    "    ax_l.set_xlabel(\"Epoch\")\n",
    "    ax_l.legend(loc=2)\n",
    "\n",
    "    ## Plot Validation Loss\n",
    "    ax_r = ax_l.twinx()\n",
    "    ax_r.plot(history.history['val_loss'], 'y--', label='val_loss')\n",
    "    ax_r.set_ylabel(\"Validation\")\n",
    "    ax_r.legend()\n",
    "    \n",
    "    plt.title(\"Learning Curve: Training / Validation\")\n",
    "    plt.show()\n",
    "\n",
    "## Run!\n",
    "plot_history(history)"
   ]
  },
  {
   "cell_type": "markdown",
   "metadata": {},
   "source": [
    "We obtain a proper shaped learning curve with continuously progress.\n",
    "The learning curve does not yet saturate, such that further epochs would be reasonable."
   ]
  },
  {
   "cell_type": "markdown",
   "metadata": {},
   "source": [
    "## Restore Checkpoint\n",
    "\n",
    "Let's restore the model from a checkpoint with a `batch_size` of 1 for qualitative testing."
   ]
  },
  {
   "cell_type": "code",
   "execution_count": 7,
   "metadata": {},
   "outputs": [
    {
     "name": "stdout",
     "output_type": "stream",
     "text": [
      "Clean up old model!\n",
      "Model: \"sequential\"\n",
      "_________________________________________________________________\n",
      "Layer (type)                 Output Shape              Param #   \n",
      "=================================================================\n",
      "embedding (Embedding)        (1, None, 256)            17408     \n",
      "_________________________________________________________________\n",
      "simple_rnn (SimpleRNN)       (1, None, 1024)           1311744   \n",
      "_________________________________________________________________\n",
      "dense (Dense)                (1, None, 68)             69700     \n",
      "=================================================================\n",
      "Total params: 1,398,852\n",
      "Trainable params: 1,398,852\n",
      "Non-trainable params: 0\n",
      "_________________________________________________________________\n"
     ]
    }
   ],
   "source": [
    "def restore_checkpoint(checkpoint, setup_lambda):\n",
    "    model = setup_lambda()\n",
    "    model.load_weights(checkpoint)\n",
    "    model.build(tf.TensorShape([1, None]))\n",
    "    return model\n",
    "\n",
    "## Run!\n",
    "if 'model' in globals():\n",
    "    print(\"Clean up old model!\")\n",
    "    tf.keras.backend.clear_session()\n",
    "    del model\n",
    "    pass\n",
    "\n",
    "model = restore_checkpoint(\n",
    "    './models/rnn_10',\n",
    "    lambda: setup_rnn(inp_dim, emb_dim, units, batch_sz=1)\n",
    ")\n",
    "\n",
    "model.summary()"
   ]
  },
  {
   "cell_type": "markdown",
   "metadata": {},
   "source": [
    "## Generate Text with RNN\n",
    "\n",
    "Since our model is trained, we can employ it to either regenerate a given text-string, or even predict further characters beyond the given string.\n",
    "The latter sounds like a more promising application for vairous use case.\n",
    "Since our model is stateful we can simple inject on character after another\n",
    "and for the prediction we keep injecting its own output, until we reached a given length."
   ]
  },
  {
   "cell_type": "code",
   "execution_count": 8,
   "metadata": {},
   "outputs": [
    {
     "name": "stdout",
     "output_type": "stream",
     "text": [
      "OXLNXZ\n"
     ]
    }
   ],
   "source": [
    "def generate_text(model, seed, vocab, vocab_dict, grow=0, temp=1.0):\n",
    "    if isinstance(seed, np.ndarray):\n",
    "        vec_seed = seed\n",
    "    elif isinstance(seed, tf.Tensor):\n",
    "        vec_seed = seed\n",
    "    else:\n",
    "        #vectorize the seed string\n",
    "        bseed = bytes(seed, 'utf-8')\n",
    "        vec_seed = np.array([vocab_dict[c] for c in bseed])\n",
    "        vec_seed = np.expand_dims(vec_seed, 0)\n",
    "    pred_ids = []\n",
    "    \n",
    "    model.reset_states()\n",
    "    if grow:\n",
    "        for i in range(grow):\n",
    "            pred = model.predict(vec_seed)\n",
    "            pred = tf.squeeze(pred, 0)\n",
    "\n",
    "            pred /= temp\n",
    "            pred_id = tf.random.categorical(pred, num_samples=1)[-1,0].numpy()\n",
    "            pred_ids.append(pred_id)\n",
    "            vec_seed = tf.expand_dims(pred_id, 0)\n",
    "        gen_text = seed + bytes([vocab[i] for i in pred_ids]).decode('utf-8')\n",
    "    else:\n",
    "        pred = model.predict(vec_seed)\n",
    "        pred = np.squeeze(pred)\n",
    "        pred_ids = np.argmax(pred, axis=1)\n",
    "        gen_text = bytes([vocab[i] for i in pred_ids]).decode('utf-8')\n",
    "    return gen_text\n",
    "\n",
    "## Run!\n",
    "text = generate_text(model, \"JULIET\", vocab, vocab_dict)\n",
    "print(text)\n"
   ]
  },
  {
   "cell_type": "markdown",
   "metadata": {},
   "source": [
    "## Compare Qualitatively\n",
    "\n",
    "Now, since we are able to restore and generate text with our models, let's check some qualitative results.\n",
    "Therefore, we simple take a sample from the datagenerator we've created before and inject it to our text generator function without a growth.\n",
    "Then we compare binary each predicted symbol with the input symbol, shifted by 1.\n",
    "By doing so, we obtain a metch-mask.\n",
    "By taking the mean of the metch-mask, we obtain the averaged accuracy of how many symboles have been correctly predicted."
   ]
  },
  {
   "cell_type": "code",
   "execution_count": 9,
   "metadata": {},
   "outputs": [
    {
     "name": "stdout",
     "output_type": "stream",
     "text": [
      "\n",
      "--- Original Y: ---\n",
      " ld not\n",
      "sell him an hour from her beholding, I, considering\n",
      "how honour would become such a person. \n",
      "\n",
      "--- Checkpoint:  ./models/rnn_2  Metch:  55.55555555555556 % ---\n",
      " o,bot \n",
      "Thrl tim tndaonr ooom tir aeaold ng  a  tomstder ng \n",
      "Win tawour oirld te ome toch a prason \n",
      "\n",
      "--- Checkpoint:  ./models/rnn_4  Metch:  52.52525252525253 % ---\n",
      " o.bot \n",
      "bhrf tim tldeonr orom tir wraold ng  a  tomftder ng \n",
      "Taw tawour tirld be ome toch a wrnfon \n",
      "\n",
      "--- Checkpoint:  ./models/rnn_6  Metch:  53.535353535353536 % ---\n",
      " o,bot \n",
      "bhrf tim tndeonr ooom tin wraold ng  a  tomftder ng \n",
      "Wiw tewour hiuld ne ome hoch a srrson \n",
      "\n",
      "--- Checkpoint:  ./models/rnn_8  Metch:  52.52525252525253 % ---\n",
      " o.bot \n",
      "wpef tim tsdaonr ooom tin fraalding  a  tomstder ng \n",
      "Wiw tewour tiuld be ome toch a brnfon \n",
      "\n",
      "--- Checkpoint:  ./models/rnn_10  Metch:  58.58585858585859 % ---\n",
      " o.bot \n",
      "weel tim tsdaour ooom ter teaalding  a  tomtider ng \n",
      "Iin teweur tiuld ne ome tuch a prnson \n"
     ]
    }
   ],
   "source": [
    "tf.autograph.set_verbosity(3)\n",
    "tf.get_logger().setLevel('ERROR')\n",
    "\n",
    "def eval_qualitatively(checkpoints, restore, sample, grow=0):\n",
    "    for i, checkpoint in enumerate(checkpoints):\n",
    "        model = restore_checkpoint(\n",
    "            checkpoint,\n",
    "            restore[i] if isinstance(restore, list) else restore\n",
    "        )\n",
    "        gen_text = generate_text(model, sample, vocab, vocab_dict, grow, 1)\n",
    "        if grow:\n",
    "            yield checkpoint, gen_text\n",
    "        else:\n",
    "            metches = np.array([a == b for a, b in zip(sample[1:], gen_text[:-1])])\n",
    "            yield checkpoint, gen_text, metches\n",
    "        del model\n",
    "    pass\n",
    "\n",
    "## Run!\n",
    "checkpoints = [\n",
    "        './models/rnn_2',\n",
    "        './models/rnn_4',\n",
    "        './models/rnn_6',\n",
    "        './models/rnn_8',\n",
    "        './models/rnn_10'\n",
    "    ]\n",
    "\n",
    "## Take a sample from the raining set\n",
    "for batch in train_set.take(1):\n",
    "    sample = bytes([vocab[i] for i in batch[0].numpy()[0]]).decode('utf-8')\n",
    "print(\"\\n--- Original Y: ---\\n\", sample)\n",
    "\n",
    "for checkpoint, text, metches in eval_qualitatively(\n",
    "    checkpoints,\n",
    "    lambda: setup_rnn(inp_dim, emb_dim, units, batch_sz=1),\n",
    "    sample\n",
    "):\n",
    "    print(\"\\n--- Checkpoint: \", checkpoint, \" Metch: \", (metches.mean()*100),\"% ---\\n\", text)"
   ]
  },
  {
   "cell_type": "markdown",
   "metadata": {},
   "source": [
    "# Long Short-Term Memory RNN (LSTM)\n",
    "\n",
    "LSTM is a sub-type of RNN with a gated unit.\n",
    "Native RNN may quickly suffer from vanishing or exploding gradients.\n",
    "LSTM is a unit that regularize itself by implementing 3 gates into the unit.\n",
    "\n",
    "1. **Input Gate**: Controls how much a unit should consider the current input frame.\n",
    "    Closing the gate would implicate that in the current iteration the input will be ignored.\n",
    "2. **Output Gate**: Controls how much of the unit will be propagated to the output or rather to the loss-function.\n",
    "    Closing the gate would implicate that the current output will not be considered in the learning progress.\n",
    "3. **Forget Gate**: Controls how much a unit should consider the past state.\n",
    "    Closing the gate would implicate that the past state is to eliminate and start from scratch."
   ]
  },
  {
   "cell_type": "code",
   "execution_count": 10,
   "metadata": {},
   "outputs": [
    {
     "name": "stdout",
     "output_type": "stream",
     "text": [
      "Clean up old model!\n",
      "Model: \"sequential\"\n",
      "_________________________________________________________________\n",
      "Layer (type)                 Output Shape              Param #   \n",
      "=================================================================\n",
      "embedding (Embedding)        (64, None, 256)           17408     \n",
      "_________________________________________________________________\n",
      "lstm (LSTM)                  (64, None, 1024)          5246976   \n",
      "_________________________________________________________________\n",
      "dense (Dense)                (64, None, 68)            69700     \n",
      "=================================================================\n",
      "Total params: 5,334,084\n",
      "Trainable params: 5,334,084\n",
      "Non-trainable params: 0\n",
      "_________________________________________________________________\n",
      "Epoch 1/10\n",
      "697/697 [==============================] - 144s 207ms/step - loss: 1.9703 - val_loss: 0.0000e+00\n",
      "Epoch 2/10\n",
      "697/697 [==============================] - 141s 202ms/step - loss: 1.4474 - val_loss: 1.4225\n",
      "Epoch 3/10\n",
      "697/697 [==============================] - 140s 201ms/step - loss: 1.3278 - val_loss: 1.3394\n",
      "Epoch 4/10\n",
      "697/697 [==============================] - 140s 201ms/step - loss: 1.2702 - val_loss: 1.2904\n",
      "Epoch 5/10\n",
      "697/697 [==============================] - 140s 201ms/step - loss: 1.2325 - val_loss: 1.2538\n",
      "Epoch 6/10\n",
      "697/697 [==============================] - 140s 201ms/step - loss: 1.2037 - val_loss: 1.2321\n",
      "Epoch 7/10\n",
      "697/697 [==============================] - 140s 201ms/step - loss: 1.1794 - val_loss: 1.2089\n",
      "Epoch 8/10\n",
      "697/697 [==============================] - 140s 201ms/step - loss: 1.1574 - val_loss: 1.1903\n",
      "Epoch 9/10\n",
      "697/697 [==============================] - 140s 201ms/step - loss: 1.1367 - val_loss: 1.1743\n",
      "Epoch 10/10\n",
      "697/697 [==============================] - 140s 201ms/step - loss: 1.1178 - val_loss: 1.1608\n"
     ]
    },
    {
     "data": {
      "image/png": "[encoded data removed]",
      "text/plain": [
       "<Figure size 432x288 with 2 Axes>"
      ]
     },
     "metadata": {
      "needs_background": "light"
     },
     "output_type": "display_data"
    }
   ],
   "source": [
    "def setup_lstm(inp_dim, emb_dim, units, batch_sz):\n",
    "    model = tf.keras.Sequential()\n",
    "    model.add(layers.Embedding(inp_dim, emb_dim, batch_input_shape=[batch_sz, None]))\n",
    "    model.add(layers.LSTM(\n",
    "        units,\n",
    "        return_sequences=True,\n",
    "        stateful=True,\n",
    "        recurrent_initializer='glorot_uniform'\n",
    "    ))\n",
    "    model.add(layers.Dense(inp_dim))\n",
    "    return model\n",
    "\n",
    "## Setup\n",
    "inp_dim = vocab.size\n",
    "emb_dim = 256\n",
    "units = 1024\n",
    "batch_size = 64\n",
    "\n",
    "if 'model' in globals():\n",
    "    print(\"Clean up old model!\")\n",
    "    tf.keras.backend.clear_session()\n",
    "    del model\n",
    "\n",
    "model = setup_lstm(inp_dim, emb_dim, units, batch_size)\n",
    "model.summary()\n",
    "\n",
    "## Training\n",
    "epochs = 10\n",
    "checkpoint = './models/lstm_{epoch}'\n",
    "history = run_training(model, train_set, val_set, epochs, checkpoint)\n",
    "\n",
    "## Plot\n",
    "plot_history(history)"
   ]
  },
  {
   "cell_type": "markdown",
   "metadata": {},
   "source": [
    "We observe the LSTM layer is exactly 4 times larger than the simple RNN.\n",
    "This is plausible because the LSTM units have 3 aditional gates with a trainable parameter, each.\n",
    "\n",
    "We obtain a proper shaped learning curve with continuously progress.\n",
    "The learning curve does not yet saturate, such that further epochs would be reasonable.\n",
    "The curve ends up with a lager slope than the RNN model,\n",
    "which indecates that the LSTM would improve evenmore with further epochs."
   ]
  },
  {
   "cell_type": "code",
   "execution_count": 11,
   "metadata": {},
   "outputs": [
    {
     "name": "stdout",
     "output_type": "stream",
     "text": [
      "\n",
      "--- Original Y: ---\n",
      " ld not\n",
      "sell him an hour from her beholding, I, considering\n",
      "how honour would become such a person. \n",
      "\n",
      "--- Checkpoint:  ./models/lstm_2  Metch:  55.55555555555556 % ---\n",
      " e hot \n",
      "a  tomfeder ng r aoom ter heaold ng \n",
      "Wiw tewour tiuld he ome toch a srason \n",
      "\n",
      "--- Checkpoint:  ./models/lstm_4  Metch:  55.55555555555556 % ---\n",
      "   hot \n",
      "tomteder,ng aonr aoom tin tefolding  a \n",
      "Iiu tewouraiiuld be ome aoch a prason \n",
      "\n",
      "--- Checkpoint:  ./models/lstm_6  Metch:  58.58585858585859 % ---\n",
      "   tot \n",
      "Thel mim t deonr toom tin bedalding  a  tomfider,ng \n",
      "Iiu tenour iiuld be ome aoch a ponson \n",
      "\n",
      "--- Checkpoint:  ./models/lstm_8  Metch:  57.57575757575758 % ---\n",
      "   iot \n",
      "tontider ng aonr orom ten tedalding  a \n",
      "Hin tenouraiiuld he ome aoch a prnson \n",
      "\n",
      "--- Checkpoint:  ./models/lstm_10  Metch:  57.57575757575758 % ---\n",
      "   hot \n",
      "tomfider ng aonr arom ten tedalding  a \n",
      "Hiw tenouraiiuld be ome aoch a crnion \n"
     ]
    }
   ],
   "source": [
    "## Run!\n",
    "checkpoints = [\n",
    "        './models/lstm_2',\n",
    "        './models/lstm_4',\n",
    "        './models/lstm_6',\n",
    "        './models/lstm_8',\n",
    "        './models/lstm_10'\n",
    "    ]\n",
    "\n",
    "## Take a sample from the raining set\n",
    "if not 'sample' in globals():\n",
    "    for batch in train_set.take(1):\n",
    "        sample = bytes([vocab[i] for i in batch[0].numpy()[0]]).decode('utf-8')\n",
    "print(\"\\n--- Original Y: ---\\n\", sample)\n",
    "\n",
    "for checkpoint, text, metches in eval_qualitatively(\n",
    "    checkpoints,\n",
    "    lambda: setup_lstm(inp_dim, emb_dim, units, batch_sz=1),\n",
    "    sample\n",
    "):\n",
    "    print(\"\\n--- Checkpoint: \", checkpoint, \" Metch: \", (metches.mean()*100),\"% ---\\n\", text)"
   ]
  },
  {
   "cell_type": "markdown",
   "metadata": {},
   "source": [
    "# Gated Recurrent Unit (GRU)"
   ]
  },
  {
   "cell_type": "code",
   "execution_count": 12,
   "metadata": {},
   "outputs": [
    {
     "name": "stdout",
     "output_type": "stream",
     "text": [
      "Clean up old model!\n",
      "Model: \"sequential\"\n",
      "_________________________________________________________________\n",
      "Layer (type)                 Output Shape              Param #   \n",
      "=================================================================\n",
      "embedding (Embedding)        (64, None, 256)           17408     \n",
      "_________________________________________________________________\n",
      "gru (GRU)                    (64, None, 1024)          3938304   \n",
      "_________________________________________________________________\n",
      "dense (Dense)                (64, None, 68)            69700     \n",
      "=================================================================\n",
      "Total params: 4,025,412\n",
      "Trainable params: 4,025,412\n",
      "Non-trainable params: 0\n",
      "_________________________________________________________________\n",
      "Epoch 1/10\n",
      "697/697 [==============================] - 112s 161ms/step - loss: 1.9497 - val_loss: 0.0000e+00\n",
      "Epoch 2/10\n",
      "697/697 [==============================] - 111s 159ms/step - loss: 1.4283 - val_loss: 1.4036\n",
      "Epoch 3/10\n",
      "697/697 [==============================] - 111s 159ms/step - loss: 1.3223 - val_loss: 1.3313\n",
      "Epoch 4/10\n",
      "697/697 [==============================] - 111s 159ms/step - loss: 1.2718 - val_loss: 1.2883\n",
      "Epoch 5/10\n",
      "697/697 [==============================] - 111s 159ms/step - loss: 1.2382 - val_loss: 1.2569\n",
      "Epoch 6/10\n",
      "697/697 [==============================] - 671s 963ms/step - loss: 1.2131 - val_loss: 1.2382\n",
      "Epoch 7/10\n",
      "697/697 [==============================] - 112s 160ms/step - loss: 1.1914 - val_loss: 1.2239\n",
      "Epoch 8/10\n",
      "697/697 [==============================] - 111s 160ms/step - loss: 1.1736 - val_loss: 1.2066\n",
      "Epoch 9/10\n",
      "697/697 [==============================] - 112s 160ms/step - loss: 1.1578 - val_loss: 1.1969\n",
      "Epoch 10/10\n",
      "697/697 [==============================] - 112s 160ms/step - loss: 1.1443 - val_loss: 1.1887\n"
     ]
    },
    {
     "data": {
      "image/png": "[encoded data removed]",
      "text/plain": [
       "<Figure size 432x288 with 2 Axes>"
      ]
     },
     "metadata": {
      "needs_background": "light"
     },
     "output_type": "display_data"
    }
   ],
   "source": [
    "def setup_gru(inp_dim, emb_dim, units, batch_sz):\n",
    "    model = tf.keras.Sequential()\n",
    "    model.add(layers.Embedding(inp_dim, emb_dim, batch_input_shape=[batch_sz, None]))\n",
    "    model.add(layers.GRU(units,\n",
    "        return_sequences=True,\n",
    "        stateful=True,\n",
    "        recurrent_initializer='glorot_uniform'\n",
    "    ))\n",
    "    model.add(layers.Dense(inp_dim))\n",
    "    return model\n",
    "\n",
    "## Setup\n",
    "inp_dim = vocab.size\n",
    "emb_dim = 256\n",
    "units = 1024\n",
    "batch_size = 64\n",
    "\n",
    "if ('model' in globals()):\n",
    "    print(\"Clean up old model!\")\n",
    "    tf.keras.backend.clear_session()\n",
    "    del model\n",
    "\n",
    "model = setup_gru(inp_dim, emb_dim, units, batch_size)\n",
    "model.summary()\n",
    "\n",
    "## Training\n",
    "epochs = 10\n",
    "checkpoint = './models/gru_{epoch}'\n",
    "history = run_training(model, train_set, val_set, epochs, checkpoint)\n",
    "\n",
    "## Plot\n",
    "plot_history(history)"
   ]
  },
  {
   "cell_type": "code",
   "execution_count": 13,
   "metadata": {},
   "outputs": [
    {
     "name": "stdout",
     "output_type": "stream",
     "text": [
      "\n",
      "--- Original Y: ---\n",
      " ld not\n",
      "sell him an hour from her beholding, I, considering\n",
      "how honour would become such a person. \n",
      "\n",
      "--- Checkpoint:  ./models/gru_2  Metch:  57.57575757575758 % ---\n",
      " e sot \n",
      "Thel tim tndaonr ooom tea teaold ng  a  tomstder,ng \n",
      "Wiw tewour iiuld he ome toch a srason \n",
      "\n",
      "--- Checkpoint:  ./models/gru_4  Metch:  57.57575757575758 % ---\n",
      " e sot \n",
      "Tael him fsdaonr ooom ten teaald ng  t  tomstder ng \n",
      "Hew tewour aiuld ne ome auch a praion \n",
      "\n",
      "--- Checkpoint:  ./models/gru_6  Metch:  60.60606060606061 % ---\n",
      " e sot \n",
      "Hpel him tndeonr ooom ten bedalding  a  tonfider ng \n",
      "Wiw teneuraaiuld ne ome aoch a serion \n",
      "\n",
      "--- Checkpoint:  ./models/gru_8  Metch:  58.58585858585859 % ---\n",
      " e tot \n",
      "Tpel mim tsdeonr ooom ten bedalding  t  tomtider ng \n",
      "Iiw tenouraaauld be ome auch a saaion \n",
      "\n",
      "--- Checkpoint:  ./models/gru_10  Metch:  57.57575757575758 % ---\n",
      " e tot \n",
      "ng l mim h deonr ooom tin bedalding  t  tomtider\n",
      "Iiw tenourawauld be ome aoch a srnion \n"
     ]
    }
   ],
   "source": [
    "## Run!\n",
    "checkpoints = [\n",
    "        './models/gru_2',\n",
    "        './models/gru_4',\n",
    "        './models/gru_6',\n",
    "        './models/gru_8',\n",
    "        './models/gru_10'\n",
    "    ]\n",
    "\n",
    "## Take a sample from the raining set\n",
    "if not 'sample' in globals():\n",
    "    for batch in train_set.take(1):\n",
    "        sample = bytes([vocab[i] for i in batch[0].numpy()[0]]).decode('utf-8')\n",
    "print(\"\\n--- Original Y: ---\\n\", sample)\n",
    "\n",
    "for checkpoint, text, metches in eval_qualitatively(\n",
    "    checkpoints,\n",
    "    lambda: setup_gru(inp_dim, emb_dim, units, batch_sz=1),\n",
    "    sample\n",
    "):\n",
    "    print(\"\\n--- Checkpoint: \", checkpoint, \" Metch: \", (metches.mean()*100),\"% ---\\n\", text)"
   ]
  },
  {
   "cell_type": "markdown",
   "metadata": {},
   "source": [
    "# Generate Seeded Text\n",
    "\n",
    "We've already prepered the `generate-text` function for generating an extended text based on a given seed.\n",
    "Let's perform a subjectivly evaluation of our models creativity."
   ]
  },
  {
   "cell_type": "code",
   "execution_count": 14,
   "metadata": {},
   "outputs": [
    {
     "name": "stdout",
     "output_type": "stream",
     "text": [
      "\n",
      "--- Seed Y: ---\n",
      " JULIET\n",
      "\n",
      "--- Checkpoint:  ./models/rnn_10 ---\n",
      " JULIETZ\n",
      "QUK[FZ\n",
      "QU[QUK[\n",
      "J[Q[Q[QUV$3\n",
      "QUQ3\n",
      "QUS[QUB\n",
      "QU[Z\n",
      "Q[QU$Z\n",
      "QUXZ\n",
      "QUV[Z\n",
      "X$[\n",
      "Q[\n",
      "HZ\n",
      "WZ\n",
      "QUZ$$[\n",
      "Q[W[Z[\n",
      "$$[\n",
      "J\n",
      "QU\n",
      "\n",
      "--- Checkpoint:  ./models/lstm_10 ---\n",
      " JULIETUONIUGHUS:\n",
      "All too hollow! for visitations dog! have I conquer'd\n",
      "His own thy care of supper is mor\n",
      "\n",
      "--- Checkpoint:  ./models/gru_10 ---\n",
      " JULIET:\n",
      "Away, old lord!\n",
      "\n",
      "KING HENRY VI:\n",
      "For him, brave leave, what bloody days!\n",
      "Where 'will you call'\n"
     ]
    }
   ],
   "source": [
    "## Run!\n",
    "def eval_gen_text(seed):\n",
    "    checkpoints = [\n",
    "            './models/rnn_10',\n",
    "            './models/lstm_10',\n",
    "            './models/gru_10'\n",
    "        ]\n",
    "\n",
    "    model_generators = [\n",
    "        lambda: setup_rnn(inp_dim, emb_dim, units, batch_sz=1),\n",
    "        lambda: setup_lstm(inp_dim, emb_dim, units, batch_sz=1),\n",
    "        lambda: setup_gru(inp_dim, emb_dim, units, batch_sz=1),\n",
    "    ]\n",
    "\n",
    "    print(\"\\n--- Seed Y: ---\\n\", seed)\n",
    "\n",
    "    for checkpoint, text in eval_qualitatively(\n",
    "        checkpoints,\n",
    "        model_generators,\n",
    "        seed,\n",
    "        100\n",
    "    ):\n",
    "        print(\"\\n--- Checkpoint: \", checkpoint, \"---\\n\", text)\n",
    "\n",
    "eval_gen_text(\"JULIET\")"
   ]
  },
  {
   "cell_type": "markdown",
   "metadata": {},
   "source": [
    "As we observe, only GRU is after 10 epochs able to generate a text-like output based on a short seed.\n",
    "\n",
    "### Try a longer Seed\n",
    "\n",
    "However, if we come up with a longer seed, all three models are able to create text-like outputs.\n",
    "Here we use a phrase the model should already know:"
   ]
  },
  {
   "cell_type": "code",
   "execution_count": 15,
   "metadata": {},
   "outputs": [
    {
     "name": "stdout",
     "output_type": "stream",
     "text": [
      "\n",
      "--- Seed Y: ---\n",
      " Who is of Rome worse hated than of you\n",
      "\n",
      "--- Checkpoint:  ./models/rnn_10 ---\n",
      " Who is of Rome worse hated than of your lord, and hotly creeping of thy petter swords!\n",
      "King Henry, brought them. You see thee old,\n",
      "Have \n",
      "\n",
      "--- Checkpoint:  ./models/lstm_10 ---\n",
      " Who is of Rome worse hated than of you,\n",
      "That Harry Mowmork bid her all; Lord blings within.\n",
      "That from my soul thou heave enough.\n",
      "\n",
      "SIMP\n",
      "\n",
      "--- Checkpoint:  ./models/gru_10 ---\n",
      " Who is of Rome worse hated than of you:\n",
      "And so far enter'd here to me: 'Shllan's fair\n",
      "Is red as:\n",
      "We privy stuff for idle! come, deam, t\n"
     ]
    }
   ],
   "source": [
    "eval_gen_text(\"Who is of Rome worse hated than of you\")"
   ]
  },
  {
   "cell_type": "markdown",
   "metadata": {},
   "source": [
    "# Conclusion\n",
    "\n",
    "In this assignment we learned how to setup and employ an RNN with an API such as Keras.\n",
    "We tested 3 different sub-types of RNN-layers: SimpleRNN, LSTM and GRU.\n",
    "We employed those layers to reproduce and generate text.\n",
    "The experiment results show:\n",
    "GRU performs best compared to similar RNN and LSTM models.\n",
    "This is plausible, bacause GRU is the later invention.\n",
    "\n",
    "- LSTM: https://www.bioinf.jku.at/publications/older/2604.pdf (1997)\n",
    "\n",
    "- GRU: https://arxiv.org/abs/1406.1078 (2014)\n",
    "\n",
    "Nevertheless, nowadays, employing an RNN for text generation is quite naive, since Generative Adversarial Networks are in the competition."
   ]
  }
 ],
 "metadata": {
  "kernelspec": {
   "display_name": "Environment (conda_tf-gpu-2)",
   "language": "python",
   "name": "conda_tf-gpu-2"
  },
  "language_info": {
   "codemirror_mode": {
    "name": "ipython",
    "version": 3
   },
   "file_extension": ".py",
   "mimetype": "text/x-python",
   "name": "python",
   "nbconvert_exporter": "python",
   "pygments_lexer": "ipython3",
   "version": "3.7.5"
  }
 },
 "nbformat": 4,
 "nbformat_minor": 2
}
