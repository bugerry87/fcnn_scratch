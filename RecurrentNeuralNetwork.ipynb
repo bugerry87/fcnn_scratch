{
 "cells": [
  {
   "cell_type": "markdown",
   "metadata": {},
   "source": [
    "# Recurrent Neural Network\n"
   ]
  },
  {
   "cell_type": "code",
   "execution_count": 20,
   "metadata": {},
   "outputs": [
    {
     "name": "stdout",
     "output_type": "stream",
     "text": [
      "Tested Tensorflow Version: 1.15\n",
      "Current Tensorflow Version: 2.0.0\n"
     ]
    }
   ],
   "source": [
    "## Global imports\n",
    "import matplotlib.pyplot as plt\n",
    "import numpy as np\n",
    "import tensorflow as tf\n",
    "from tensorflow.keras import layers\n",
    "\n",
    "print(\"Tested Tensorflow Version: 1.15\")\n",
    "print(\"Current Tensorflow Version:\", tf.__version__)"
   ]
  },
  {
   "cell_type": "markdown",
   "metadata": {},
   "source": [
    "## Data Preparation\n"
   ]
  },
  {
   "cell_type": "code",
   "execution_count": 39,
   "metadata": {},
   "outputs": [
    {
     "name": "stdout",
     "output_type": "stream",
     "text": [
      "\n",
      "--- Plain Text: 229972 ---\n",
      " DUKE ORSINO:\r\n",
      "If music be the food of love, play on;\r\n",
      "Give me excess of it, that, surfeiting,\r\n",
      "The a ...\n",
      "\n",
      "--- Numpy Array: (229972,) ---\n",
      " [ 68  85  75  69  32  79  82  83  73  78  79  58  13  10  73 102  32 109\n",
      " 117 115 105  99  32  98 101  32 116 104 101  32 102 111 111 100  32 111\n",
      " 102  32 108 111 118 101  44  32 112 108  97 121  32 111 110  59  13  10\n",
      "  71 105 118 101  32 109 101  32 101 120  99 101 115 115  32 111 102  32\n",
      " 105 116  44  32 116 104  97 116  44  32 115 117 114 102 101 105 116 105\n",
      " 110 103  44  13  10  84 104 101  32  97] ...\n",
      "\n",
      "--- Vocabular: (63,) ---\n",
      " [10 13 32 33 39 44 45 46 58 59] ...\n",
      "\n",
      "--- Dictionary ---\n",
      " {10: 0, 13: 1, 32: 2, 33: 3, 39: 4, 44: 5, 45: 6, 46: 7, 58: 8, 59: 9, 63: 10, 65: 11, 66: 12, 67: 13, 68: 14, 69: 15, 70: 16, 71: 17, 72: 18, 73: 19, 74: 20, 75: 21, 76: 22, 77: 23, 78: 24, 79: 25, 80: 26, 81: 27, 82: 28, 83: 29, 84: 30, 85: 31, 86: 32, 87: 33, 88: 34, 89: 35, 90: 36, 97: 37, 98: 38, 99: 39, 100: 40, 101: 41, 102: 42, 103: 43, 104: 44, 105: 45, 106: 46, 107: 47, 108: 48, 109: 49, 110: 50, 111: 51, 112: 52, 113: 53, 114: 54, 115: 55, 116: 56, 117: 57, 118: 58, 119: 59, 120: 60, 121: 61, 122: 62}\n",
      "\n",
      "--- Vectorized Text: (229972,) ---\n",
      " [14 31 21 15  2 25 28 29 19 24 25  8  1  0 19 42  2 49 57 55 45 39  2 38\n",
      " 41  2 56 44 41  2 42 51 51 40  2 51 42  2 48 51 58 41  5  2 52 48 37 61\n",
      "  2 51 50  9  1  0 17 45 58 41  2 49 41  2 41 60 39 41 55 55  2 51 42  2\n",
      " 45 56  5  2 56 44 37 56  5  2 55 57 54 42 41 45 56 45 50 43  5  1  0 30\n",
      " 44 41  2 37] ...\n"
     ]
    }
   ],
   "source": [
    "def load_data(filename, verbose=False):\n",
    "    with open(filename, 'rb') as fid:\n",
    "        text = fid.read()\n",
    "        pass\n",
    "    np_text = np.array(list(text))\n",
    "    vocab = np.unique(list(text))\n",
    "    vocab_dict = {c:i for i, c in enumerate(vocab)}\n",
    "    vec_text = np.array([vocab_dict[c] for c in np_text])\n",
    "    if verbose:\n",
    "        print(\"\\n--- Plain Text:\", len(text), \"---\\n\", text[:100].decode('utf-8'), \"...\")\n",
    "        print(\"\\n--- Numpy Array:\", np_text.shape, \"---\\n\", np_text[:100], \"...\")\n",
    "        print(\"\\n--- Vocabular:\", vocab.shape, \"---\\n\", vocab[:10], \"...\")\n",
    "        print(\"\\n--- Dictionary ---\\n\", vocab_dict)\n",
    "        print(\"\\n--- Vectorized Text:\", vec_text.shape, \"---\\n\", vec_text[:100], \"...\")\n",
    "    return vec_text, vocab, vocab_dict\n",
    "\n",
    "## Run!\n",
    "val, _, _ = load_data('data/shakespeare_valid.txt', True)\n",
    "train, vocab, vocab_dict = load_data('data/shakespeare_train.txt')"
   ]
  },
  {
   "cell_type": "markdown",
   "metadata": {},
   "source": [
    "### Create Tensorflow Datagenerators"
   ]
  },
  {
   "cell_type": "code",
   "execution_count": 3,
   "metadata": {},
   "outputs": [
    {
     "name": "stdout",
     "output_type": "stream",
     "text": [
      "<BatchDataset shapes: ((64, 100), (64, 100)), types: (tf.int32, tf.int32)>\n",
      "\n",
      "--- Input Y: ---\n",
      " \n",
      "This is strange.\n",
      "\n",
      "MARCIUS:\n",
      "Go, get you home, you fragments!\n",
      "\n",
      "Messenger:\n",
      "Where's Caius Marcius?\n",
      "\n",
      "MAR\n",
      "\n",
      "--- Target T: ---\n",
      " This is strange.\n",
      "\n",
      "MARCIUS:\n",
      "Go, get you home, you fragments!\n",
      "\n",
      "Messenger:\n",
      "Where's Caius Marcius?\n",
      "\n",
      "MARC\n"
     ]
    }
   ],
   "source": [
    "def mapping(chunk):\n",
    "    y = chunk[:-1]\n",
    "    t = chunk[1:]\n",
    "    return y, t\n",
    "\n",
    "def create_datagenerator(data, chunk_sz, batch_sz, buffer_sz):\n",
    "    dataset = tf.data.Dataset.from_tensor_slices(data)\n",
    "    dataset = dataset.batch(chunk_sz+1, drop_remainder=True)\n",
    "    dataset = dataset.map(mapping)\n",
    "    dataset = dataset.shuffle(buffer_sz).batch(batch_sz, drop_remainder=True)\n",
    "    return dataset\n",
    "\n",
    "## Run!\n",
    "chunk_size = 100\n",
    "batch_size = 64\n",
    "\n",
    "train_set = create_datagenerator(train, chunk_size, batch_size, buffer_sz=1000)\n",
    "val_set = create_datagenerator(train, chunk_size, batch_size, buffer_sz=200)\n",
    "\n",
    "print(val_set)\n",
    "for batch in val_set.take(1):\n",
    "    print(\"\\n--- Input Y: ---\\n\", ''.join([vocab[i] for i in batch[0].numpy()[0]]))\n",
    "    print(\"\\n--- Target T: ---\\n\", ''.join([vocab[i] for i in batch[1].numpy()[0]]))"
   ]
  },
  {
   "cell_type": "markdown",
   "metadata": {},
   "source": [
    "## Setup a SimpleRNN"
   ]
  },
  {
   "cell_type": "code",
   "execution_count": 4,
   "metadata": {},
   "outputs": [
    {
     "name": "stdout",
     "output_type": "stream",
     "text": [
      "Model: \"sequential\"\n",
      "_________________________________________________________________\n",
      "Layer (type)                 Output Shape              Param #   \n",
      "=================================================================\n",
      "embedding (Embedding)        (64, None, 256)           17152     \n",
      "_________________________________________________________________\n",
      "gru (GRU)                    (64, None, 1024)          3938304   \n",
      "_________________________________________________________________\n",
      "dense (Dense)                (64, None, 67)            68675     \n",
      "=================================================================\n",
      "Total params: 4,024,131\n",
      "Trainable params: 4,024,131\n",
      "Non-trainable params: 0\n",
      "_________________________________________________________________\n"
     ]
    }
   ],
   "source": [
    "def setup_rnn(inp_dim, emb_dim, units, batch_sz):\n",
    "    model = tf.keras.Sequential()\n",
    "    model.add(layers.Embedding(inp_dim, emb_dim, batch_input_shape=[batch_sz, None]))\n",
    "    #model.add(layers.SimpleRNN(units))\n",
    "    model.add(layers.GRU(units,\n",
    "        return_sequences=True,\n",
    "        stateful=True,\n",
    "        recurrent_initializer='glorot_uniform'\n",
    "    ))\n",
    "    model.add(layers.Dense(inp_dim))\n",
    "    return model\n",
    "\n",
    "## Run!\n",
    "inp_dim = vocab.size\n",
    "emb_dim = 256\n",
    "units = 1024\n",
    "batch_size = 64\n",
    "\n",
    "if ('model' in globals()):\n",
    "    print(\"Clean up old model!\")\n",
    "    tf.keras.backend.clear_session()\n",
    "    del model\n",
    "\n",
    "model = setup_rnn(inp_dim, emb_dim, units, batch_size)\n",
    "model.summary()"
   ]
  },
  {
   "cell_type": "markdown",
   "metadata": {},
   "source": [
    "## Train a SimpleRNN\n",
    "\n"
   ]
  },
  {
   "cell_type": "code",
   "execution_count": 22,
   "metadata": {},
   "outputs": [
    {
     "name": "stdout",
     "output_type": "stream",
     "text": [
      "Epoch 1/10\n",
      "673/673 [==============================] - 109s 162ms/step - loss: 1.1393 - val_loss: 0.0000e+00\n",
      "Epoch 2/10\n",
      "673/673 [==============================] - 109s 162ms/step - loss: 1.1403 - val_loss: 1.2012\n",
      "Epoch 3/10\n",
      "673/673 [==============================] - 109s 162ms/step - loss: 1.1436 - val_loss: 1.2022\n",
      "Epoch 4/10\n",
      "673/673 [==============================] - 109s 163ms/step - loss: 1.1461 - val_loss: 1.2011\n",
      "Epoch 5/10\n",
      "673/673 [==============================] - 126s 187ms/step - loss: 1.1512 - val_loss: 1.2041\n",
      "Epoch 6/10\n",
      "673/673 [==============================] - 111s 165ms/step - loss: 1.1548 - val_loss: 1.2037\n",
      "Epoch 7/10\n",
      "673/673 [==============================] - 109s 163ms/step - loss: 1.1590 - val_loss: 1.2066\n",
      "Epoch 8/10\n",
      "673/673 [==============================] - 109s 162ms/step - loss: 1.1641 - val_loss: 1.2107\n",
      "Epoch 9/10\n",
      "673/673 [==============================] - 109s 163ms/step - loss: 1.1684 - val_loss: 1.2123\n",
      "Epoch 10/10\n",
      "673/673 [==============================] - 109s 162ms/step - loss: 1.1727 - val_loss: 1.2171\n"
     ]
    }
   ],
   "source": [
    "from tensorflow.keras.losses import sparse_categorical_crossentropy\n",
    "from tensorflow.keras.callbacks import ModelCheckpoint\n",
    "\n",
    "def loss(labels, logits):\n",
    "    return sparse_categorical_crossentropy(labels, logits, from_logits=True)\n",
    "\n",
    "def run_training(model, trainset, valset, epochs, checkpoint):\n",
    "    mc = ModelCheckpoint(\n",
    "        filepath=checkpoint,\n",
    "        save_weights_only=True\n",
    "    )\n",
    "    model.compile(optimizer='adam', loss=loss)\n",
    "    return model.fit(trainset, epochs=epochs, validation_data=valset, callbacks=[mc])\n",
    "\n",
    "## Run!\n",
    "epochs = 10\n",
    "checkpoint = './models/rnn_{epoch}'\n",
    "history = run_training(model, train_set, val_set, epochs, checkpoint)"
   ]
  },
  {
   "cell_type": "markdown",
   "metadata": {},
   "source": [
    "## Plot Learning Curves"
   ]
  },
  {
   "cell_type": "code",
   "execution_count": 23,
   "metadata": {},
   "outputs": [
    {
     "data": {
      "image/png": "[encoded data removed]",
      "text/plain": [
       "<Figure size 432x288 with 2 Axes>"
      ]
     },
     "metadata": {
      "needs_background": "light"
     },
     "output_type": "display_data"
    }
   ],
   "source": [
    "def plot_history(history):\n",
    "    ## Plot Training Loss\n",
    "    _, ax_l = plt.subplots(1)\n",
    "    ax_l.plot(history.history['loss'], label='train_loss')\n",
    "    ax_l.set_ylabel(\"Training\")\n",
    "    ax_l.set_xlabel(\"Epoch\")\n",
    "    ax_l.legend(loc=2)\n",
    "\n",
    "    ## Plot Validation Loss\n",
    "    ax_r = ax_l.twinx()\n",
    "    ax_r.plot(history.history['val_loss'], 'y--', label='val_loss')\n",
    "    ax_r.set_ylabel(\"Validation\")\n",
    "    ax_r.legend()\n",
    "    \n",
    "    plt.title(\"Learning Curve: Training / Validation\")\n",
    "    plt.show()\n",
    "\n",
    "## Run!\n",
    "plot_history(history)"
   ]
  },
  {
   "cell_type": "markdown",
   "metadata": {},
   "source": [
    "## Restore Checkpoint"
   ]
  },
  {
   "cell_type": "code",
   "execution_count": 29,
   "metadata": {},
   "outputs": [
    {
     "name": "stdout",
     "output_type": "stream",
     "text": [
      "Clean up old model!\n"
     ]
    }
   ],
   "source": [
    "def restore_checkpoint(checkpoint, setup_lambda):\n",
    "    model = setup_lambda()\n",
    "    model.load_weights(checkpoint)\n",
    "    model.build(tf.TensorShape([1, None]))\n",
    "    return model\n",
    "\n",
    "## Run!\n",
    "if ('model' in globals()):\n",
    "    print(\"Clean up old model!\")\n",
    "    tf.keras.backend.clear_session()\n",
    "    del model\n",
    "    pass\n",
    "\n",
    "model = restore_checkpoint(\n",
    "    './models/rnn_10',\n",
    "    lambda: setup_rnn(inp_dim, emb_dim, units, batch_sz=1)\n",
    ")"
   ]
  },
  {
   "cell_type": "markdown",
   "metadata": {},
   "source": [
    "## Generate Text with RNN"
   ]
  },
  {
   "cell_type": "code",
   "execution_count": 36,
   "metadata": {},
   "outputs": [
    {
     "name": "stdout",
     "output_type": "stream",
     "text": [
      "(1, 6)\n"
     ]
    },
    {
     "data": {
      "text/plain": [
       "\"JULIET:\\nAlas, my lord.\\n\\nCAIUS LUCIO:\\nI know no more, 'make nown a tow r I will chance\\nAnd signify the crim\""
      ]
     },
     "execution_count": 36,
     "metadata": {},
     "output_type": "execute_result"
    }
   ],
   "source": [
    "def generate_text(model, seed, vocab, vocab_dict, length=100, temp=1.0):\n",
    "    #vectorize the seed string\n",
    "    vec_seed = np.array([vocab_dict[c] for c in seed])\n",
    "    vec_seed = np.expand_dims(vec_seed, 0)\n",
    "    print(vec_seed.shape)\n",
    "    gen_text = []\n",
    "    \n",
    "    model.reset_states()\n",
    "    for i in range(length):\n",
    "        pred = model.predict(vec_seed)\n",
    "        pred = tf.squeeze(pred, 0)\n",
    "\n",
    "        # using a categorical distribution to predict the word returned by the model\n",
    "        pred /= temp\n",
    "        pred_id = tf.random.categorical(pred, num_samples=1)[-1,0].numpy()\n",
    "        # We pass the predicted word as the next input to the model\n",
    "        # along with the previous hidden state\n",
    "        vec_seed = tf.expand_dims(pred_id, 0)\n",
    "        gen_text.append(vocab[pred_id])\n",
    "    return (seed + ''.join(gen_text))\n",
    "\n",
    "## Run!\n",
    "generate_text(model, \"JULIET\", vocab, vocab_dict)"
   ]
  },
  {
   "cell_type": "code",
   "execution_count": null,
   "metadata": {},
   "outputs": [],
   "source": []
  }
 ],
 "metadata": {
  "kernelspec": {
   "display_name": "Python 3",
   "language": "python",
   "name": "python3"
  },
  "language_info": {
   "codemirror_mode": {
    "name": "ipython",
    "version": 3
   },
   "file_extension": ".py",
   "mimetype": "text/x-python",
   "name": "python",
   "nbconvert_exporter": "python",
   "pygments_lexer": "ipython3",
   "version": "3.7.5"
  }
 },
 "nbformat": 4,
 "nbformat_minor": 2
}
